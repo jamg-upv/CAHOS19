{
  "nbformat": 4,
  "nbformat_minor": 0,
  "metadata": {
    "colab": {
      "name": "modeloOBJETIVO1.1.ipynb",
      "provenance": [],
      "collapsed_sections": [],
      "authorship_tag": "ABX9TyNQu0N14eg0EnB6VgD+rRZo",
      "include_colab_link": true
    },
    "kernelspec": {
      "name": "python3",
      "display_name": "Python 3"
    },
    "language_info": {
      "name": "python"
    }
  },
  "cells": [
    {
      "cell_type": "markdown",
      "metadata": {
        "id": "view-in-github",
        "colab_type": "text"
      },
      "source": [
        "<a href=\"https://colab.research.google.com/github/jamg-upv/CAHOS19/blob/main/python/modeloOBJETIVO1_1.ipynb\" target=\"_parent\"><img src=\"https://colab.research.google.com/assets/colab-badge.svg\" alt=\"Open In Colab\"/></a>"
      ]
    },
    {
      "cell_type": "code",
      "metadata": {
        "colab": {
          "base_uri": "https://localhost:8080/",
          "height": 439
        },
        "id": "I7ogETKZ4VgJ",
        "outputId": "ccca48ce-8e2b-4ae0-dc9f-2c712b2e09e6"
      },
      "source": [
        "import pandas as pd \n",
        "import numpy as np\n",
        "import seaborn as sns\n",
        "from datetime import datetime, timedelta\n",
        "from matplotlib import pyplot as plt\n",
        "\n",
        "direccion0='https://raw.githubusercontent.com/jamg-upv/CAHOS19/main/inputtables/dataset1fake1.csv'\n",
        "df=pd.read_csv(direccion0, delimiter=';')\n",
        "\n",
        "df"
      ],
      "execution_count": 5,
      "outputs": [
        {
          "output_type": "execute_result",
          "data": {
            "text/html": [
              "<div>\n",
              "<style scoped>\n",
              "    .dataframe tbody tr th:only-of-type {\n",
              "        vertical-align: middle;\n",
              "    }\n",
              "\n",
              "    .dataframe tbody tr th {\n",
              "        vertical-align: top;\n",
              "    }\n",
              "\n",
              "    .dataframe thead th {\n",
              "        text-align: right;\n",
              "    }\n",
              "</style>\n",
              "<table border=\"1\" class=\"dataframe\">\n",
              "  <thead>\n",
              "    <tr style=\"text-align: right;\">\n",
              "      <th></th>\n",
              "      <th>Id</th>\n",
              "      <th>edad</th>\n",
              "      <th>sexo</th>\n",
              "      <th>CNH</th>\n",
              "      <th>fechaingrehosp</th>\n",
              "      <th>fechaingreuci</th>\n",
              "      <th>fechaaltauci</th>\n",
              "      <th>fechaaltahosp</th>\n",
              "      <th>fechadefunc</th>\n",
              "      <th>fechatraslado</th>\n",
              "      <th>altadeftraslado</th>\n",
              "      <th>ComorbidityIndex</th>\n",
              "    </tr>\n",
              "  </thead>\n",
              "  <tbody>\n",
              "    <tr>\n",
              "      <th>0</th>\n",
              "      <td>574</td>\n",
              "      <td>25</td>\n",
              "      <td>0</td>\n",
              "      <td>120115</td>\n",
              "      <td>2020-09-02</td>\n",
              "      <td>2020-09-08</td>\n",
              "      <td>2020-09-08</td>\n",
              "      <td>2020-09-08</td>\n",
              "      <td>NaN</td>\n",
              "      <td>NaN</td>\n",
              "      <td>a</td>\n",
              "      <td>0,9797155</td>\n",
              "    </tr>\n",
              "    <tr>\n",
              "      <th>1</th>\n",
              "      <td>1443</td>\n",
              "      <td>75</td>\n",
              "      <td>0</td>\n",
              "      <td>120115</td>\n",
              "      <td>2020-09-02</td>\n",
              "      <td>2020-09-18</td>\n",
              "      <td>2020-09-18</td>\n",
              "      <td>2020-09-18</td>\n",
              "      <td>2020-09-18</td>\n",
              "      <td>NaN</td>\n",
              "      <td>d</td>\n",
              "      <td>12,19730955</td>\n",
              "    </tr>\n",
              "    <tr>\n",
              "      <th>2</th>\n",
              "      <td>2210</td>\n",
              "      <td>75</td>\n",
              "      <td>0</td>\n",
              "      <td>120115</td>\n",
              "      <td>2020-09-02</td>\n",
              "      <td>2020-09-09</td>\n",
              "      <td>2020-10-01</td>\n",
              "      <td>2020-10-01</td>\n",
              "      <td>NaN</td>\n",
              "      <td>NaN</td>\n",
              "      <td>a</td>\n",
              "      <td>16,12867379</td>\n",
              "    </tr>\n",
              "    <tr>\n",
              "      <th>3</th>\n",
              "      <td>2986</td>\n",
              "      <td>45</td>\n",
              "      <td>0</td>\n",
              "      <td>120115</td>\n",
              "      <td>2020-09-02</td>\n",
              "      <td>2020-09-07</td>\n",
              "      <td>2020-09-07</td>\n",
              "      <td>2020-09-07</td>\n",
              "      <td>NaN</td>\n",
              "      <td>NaN</td>\n",
              "      <td>a</td>\n",
              "      <td>1,89360647</td>\n",
              "    </tr>\n",
              "    <tr>\n",
              "      <th>4</th>\n",
              "      <td>3271</td>\n",
              "      <td>55</td>\n",
              "      <td>0</td>\n",
              "      <td>120115</td>\n",
              "      <td>2020-09-02</td>\n",
              "      <td>2020-09-10</td>\n",
              "      <td>2020-09-10</td>\n",
              "      <td>2020-09-10</td>\n",
              "      <td>NaN</td>\n",
              "      <td>NaN</td>\n",
              "      <td>a</td>\n",
              "      <td>3,3809675</td>\n",
              "    </tr>\n",
              "    <tr>\n",
              "      <th>...</th>\n",
              "      <td>...</td>\n",
              "      <td>...</td>\n",
              "      <td>...</td>\n",
              "      <td>...</td>\n",
              "      <td>...</td>\n",
              "      <td>...</td>\n",
              "      <td>...</td>\n",
              "      <td>...</td>\n",
              "      <td>...</td>\n",
              "      <td>...</td>\n",
              "      <td>...</td>\n",
              "      <td>...</td>\n",
              "    </tr>\n",
              "    <tr>\n",
              "      <th>13776</th>\n",
              "      <td>6041</td>\n",
              "      <td>85</td>\n",
              "      <td>1</td>\n",
              "      <td>30211</td>\n",
              "      <td>2021-03-25</td>\n",
              "      <td>2021-04-01</td>\n",
              "      <td>2021-04-17</td>\n",
              "      <td>2021-04-17</td>\n",
              "      <td>2021-04-17</td>\n",
              "      <td>NaN</td>\n",
              "      <td>d</td>\n",
              "      <td>34,20417419</td>\n",
              "    </tr>\n",
              "    <tr>\n",
              "      <th>13777</th>\n",
              "      <td>6374</td>\n",
              "      <td>85</td>\n",
              "      <td>0</td>\n",
              "      <td>30211</td>\n",
              "      <td>2021-03-25</td>\n",
              "      <td>2021-03-31</td>\n",
              "      <td>2021-04-21</td>\n",
              "      <td>2021-04-21</td>\n",
              "      <td>NaN</td>\n",
              "      <td>NaN</td>\n",
              "      <td>a</td>\n",
              "      <td>36,38422045</td>\n",
              "    </tr>\n",
              "    <tr>\n",
              "      <th>13778</th>\n",
              "      <td>7765</td>\n",
              "      <td>45</td>\n",
              "      <td>1</td>\n",
              "      <td>460044</td>\n",
              "      <td>2021-03-25</td>\n",
              "      <td>2021-04-01</td>\n",
              "      <td>2021-04-01</td>\n",
              "      <td>2021-04-01</td>\n",
              "      <td>NaN</td>\n",
              "      <td>NaN</td>\n",
              "      <td>a</td>\n",
              "      <td>3,446363775</td>\n",
              "    </tr>\n",
              "    <tr>\n",
              "      <th>13779</th>\n",
              "      <td>9872</td>\n",
              "      <td>55</td>\n",
              "      <td>1</td>\n",
              "      <td>460044</td>\n",
              "      <td>2021-03-25</td>\n",
              "      <td>2021-03-30</td>\n",
              "      <td>2021-04-10</td>\n",
              "      <td>2021-04-16</td>\n",
              "      <td>NaN</td>\n",
              "      <td>NaN</td>\n",
              "      <td>a</td>\n",
              "      <td>8,273426354</td>\n",
              "    </tr>\n",
              "    <tr>\n",
              "      <th>13780</th>\n",
              "      <td>12782</td>\n",
              "      <td>85</td>\n",
              "      <td>1</td>\n",
              "      <td>460288</td>\n",
              "      <td>2021-03-25</td>\n",
              "      <td>2021-04-01</td>\n",
              "      <td>2021-04-19</td>\n",
              "      <td>2021-04-19</td>\n",
              "      <td>2021-04-19</td>\n",
              "      <td>NaN</td>\n",
              "      <td>d</td>\n",
              "      <td>41,38705077</td>\n",
              "    </tr>\n",
              "  </tbody>\n",
              "</table>\n",
              "<p>13781 rows × 12 columns</p>\n",
              "</div>"
            ],
            "text/plain": [
              "          Id  edad  sexo  ...  fechatraslado altadeftraslado ComorbidityIndex\n",
              "0        574    25     0  ...            NaN               a        0,9797155\n",
              "1       1443    75     0  ...            NaN               d      12,19730955\n",
              "2       2210    75     0  ...            NaN               a      16,12867379\n",
              "3       2986    45     0  ...            NaN               a       1,89360647\n",
              "4       3271    55     0  ...            NaN               a        3,3809675\n",
              "...      ...   ...   ...  ...            ...             ...              ...\n",
              "13776   6041    85     1  ...            NaN               d      34,20417419\n",
              "13777   6374    85     0  ...            NaN               a      36,38422045\n",
              "13778   7765    45     1  ...            NaN               a      3,446363775\n",
              "13779   9872    55     1  ...            NaN               a      8,273426354\n",
              "13780  12782    85     1  ...            NaN               d      41,38705077\n",
              "\n",
              "[13781 rows x 12 columns]"
            ]
          },
          "metadata": {
            "tags": []
          },
          "execution_count": 5
        }
      ]
    },
    {
      "cell_type": "code",
      "metadata": {
        "id": "AC4KQWUM4pU9"
      },
      "source": [
        "#Cogemos como muestra los primeros 200 días después del día 2020-09-15\n",
        "#Los cálculos acabarían el día 2021-04-03\n",
        "df2 = pd.DataFrame()\n",
        "dias = pd.date_range('2020-09-15', periods=200, freq='D')\n",
        "df2['date'] = dias\n",
        "df2['count']=0\n",
        "\n",
        "for row, fila in df2.iterrows():\n",
        "  counter = 0\n",
        "  for Id, user in df.iterrows():\n",
        "    if (pd.to_datetime(user['fechaingrehosp']) <= pd.to_datetime(fila['date'])) & (pd.to_datetime(user['fechaaltahosp']) >= pd.to_datetime(fila['date'])):\n",
        "      counter += 1\n",
        "\n",
        "  df2.at[row, 'count'] = counter\n",
        "df2\n",
        "df2.to_csv('ocupacion.csv')"
      ],
      "execution_count": 3,
      "outputs": []
    },
    {
      "cell_type": "code",
      "metadata": {
        "id": "oTN-2j_p-df_",
        "colab": {
          "base_uri": "https://localhost:8080/",
          "height": 393
        },
        "outputId": "3fc762fa-310e-4e3f-8825-5551872297c1"
      },
      "source": [
        "#OCUPACIÓN DE CAMAS POR DÍA\n",
        "x=df2['date']\n",
        "y=df2['count']\n",
        "plt.rcParams[\"figure.figsize\"] = (6, 4)\n",
        "plt.plot(x, y, color='B')\n",
        "plt.title('Numero de camas ocupadas')\n",
        "plt.xlabel('Fechas')\n",
        "plt.xticks(rotation=45)"
      ],
      "execution_count": 6,
      "outputs": [
        {
          "output_type": "execute_result",
          "data": {
            "text/plain": [
              "(array([737699., 737730., 737760., 737791., 737822., 737850., 737881.]),\n",
              " <a list of 7 Text major ticklabel objects>)"
            ]
          },
          "metadata": {
            "tags": []
          },
          "execution_count": 6
        },
        {
          "output_type": "stream",
          "text": [
            "/usr/local/lib/python3.7/dist-packages/google/colab/_event_manager.py:28: MatplotlibDeprecationWarning: Support for uppercase single-letter colors is deprecated since Matplotlib 3.1 and will be removed in 3.3; please use lowercase instead.\n",
            "  func(*args, **kwargs)\n"
          ],
          "name": "stderr"
        },
        {
          "output_type": "display_data",
          "data": {
            "image/png": "[encoded data removed]",
            "text/plain": [
              "<Figure size 432x288 with 1 Axes>"
            ]
          },
          "metadata": {
            "tags": [],
            "needs_background": "light"
          }
        }
      ]
    },
    {
      "cell_type": "code",
      "metadata": {
        "id": "uvLZtUCwC23g"
      },
      "source": [
        "#Cogemos como muestra los primeros 225 días después del día 2020-09-15\n",
        "#Los cálculos acabarían el día 2021-04-28\n",
        "df2 = pd.DataFrame()\n",
        "dias = pd.date_range('2020-09-15', periods=225, freq='D')\n",
        "df2['date'] = dias\n",
        "df2['count']=0\n",
        "\n",
        "for row, fila in df2.iterrows():\n",
        "  counter = 0\n",
        "  for Id, user in df.iterrows():\n",
        "    if (pd.to_datetime(user['fechaingrehosp']) <= pd.to_datetime(fila['date'])) & (pd.to_datetime(user['fechaaltahosp']) >= pd.to_datetime(fila['date'])):\n",
        "      counter += 1\n",
        "\n",
        "  df2.at[row, 'count'] = counter\n",
        "\n",
        "df2.to_csv('ocupacion225dias.csv')\n"
      ],
      "execution_count": 7,
      "outputs": []
    },
    {
      "cell_type": "code",
      "metadata": {
        "colab": {
          "base_uri": "https://localhost:8080/",
          "height": 356
        },
        "id": "T4x8Ssf8IAHr",
        "outputId": "b7ed6d7e-2257-4e01-88e2-85cca114f0c1"
      },
      "source": [
        "#OCUPACIÓN DE CAMAS POR DÍA\n",
        "x_2=df2['date']\n",
        "y_2=df2['count']\n",
        "plt.rcParams[\"figure.figsize\"] = (6, 4)\n",
        "plt.plot(x_2, y_2, color='B')\n",
        "plt.title('Numero de camas ocupadas')\n",
        "plt.xlabel('Fechas')\n",
        "plt.xticks(rotation=45)"
      ],
      "execution_count": 8,
      "outputs": [
        {
          "output_type": "execute_result",
          "data": {
            "text/plain": [
              "(array([737699., 737730., 737760., 737791., 737822., 737850., 737881.,\n",
              "        737911.]), <a list of 8 Text major ticklabel objects>)"
            ]
          },
          "metadata": {
            "tags": []
          },
          "execution_count": 8
        },
        {
          "output_type": "display_data",
          "data": {
            "image/png": "[encoded data removed]",
            "text/plain": [
              "<Figure size 432x288 with 1 Axes>"
            ]
          },
          "metadata": {
            "tags": [],
            "needs_background": "light"
          }
        }
      ]
    },
    {
      "cell_type": "code",
      "metadata": {
        "id": "BjOaNUykMNTO"
      },
      "source": [
        ""
      ],
      "execution_count": null,
      "outputs": []
    }
  ]
}