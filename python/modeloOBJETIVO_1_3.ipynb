{
  "nbformat": 4,
  "nbformat_minor": 0,
  "metadata": {
    "colab": {
      "name": "modeloOBJETIVO 1_3.ipynb",
      "provenance": [],
      "collapsed_sections": [],
      "authorship_tag": "ABX9TyNZVJq/YORAVQUc6hNzQzxn",
      "include_colab_link": true
    },
    "kernelspec": {
      "name": "python3",
      "display_name": "Python 3"
    },
    "language_info": {
      "name": "python"
    }
  },
  "cells": [
    {
      "cell_type": "markdown",
      "metadata": {
        "id": "view-in-github",
        "colab_type": "text"
      },
      "source": [
        "<a href=\"https://colab.research.google.com/github/jamg-upv/CAHOS19/blob/main/python/modeloOBJETIVO_1_3.ipynb\" target=\"_parent\"><img src=\"https://colab.research.google.com/assets/colab-badge.svg\" alt=\"Open In Colab\"/></a>"
      ]
    },
    {
      "cell_type": "code",
      "metadata": {
        "colab": {
          "base_uri": "https://localhost:8080/",
          "height": 442
        },
        "id": "2eam5Xj8QCkb",
        "outputId": "1778b225-abc3-4128-db09-8cc103c04aa6"
      },
      "source": [
        "import pandas as pd \n",
        "import numpy as np\n",
        "from datetime import datetime, timedelta\n",
        "from matplotlib import pyplot as plt\n",
        "import tensorflow as tf\n",
        "\n",
        "\n",
        "direccion0='https://raw.githubusercontent.com/jamg-upv/CAHOS19/main/inputtables/dataset1fake1.csv'\n",
        "df0=pd.read_csv(direccion0, delimiter=';',decimal=',')\n",
        "\n",
        "df0"
      ],
      "execution_count": 4,
      "outputs": [
        {
          "output_type": "execute_result",
          "data": {
            "text/html": [
              "<div>\n",
              "<style scoped>\n",
              "    .dataframe tbody tr th:only-of-type {\n",
              "        vertical-align: middle;\n",
              "    }\n",
              "\n",
              "    .dataframe tbody tr th {\n",
              "        vertical-align: top;\n",
              "    }\n",
              "\n",
              "    .dataframe thead th {\n",
              "        text-align: right;\n",
              "    }\n",
              "</style>\n",
              "<table border=\"1\" class=\"dataframe\">\n",
              "  <thead>\n",
              "    <tr style=\"text-align: right;\">\n",
              "      <th></th>\n",
              "      <th>Id</th>\n",
              "      <th>edad</th>\n",
              "      <th>sexo</th>\n",
              "      <th>CNH</th>\n",
              "      <th>fechaingrehosp</th>\n",
              "      <th>fechaingreuci</th>\n",
              "      <th>fechaaltauci</th>\n",
              "      <th>fechaaltahosp</th>\n",
              "      <th>fechadefunc</th>\n",
              "      <th>fechatraslado</th>\n",
              "      <th>altadeftraslado</th>\n",
              "      <th>ComorbidityIndex</th>\n",
              "    </tr>\n",
              "  </thead>\n",
              "  <tbody>\n",
              "    <tr>\n",
              "      <th>0</th>\n",
              "      <td>574</td>\n",
              "      <td>25</td>\n",
              "      <td>0</td>\n",
              "      <td>120115</td>\n",
              "      <td>2020-09-02</td>\n",
              "      <td>2020-09-08</td>\n",
              "      <td>2020-09-08</td>\n",
              "      <td>2020-09-08</td>\n",
              "      <td>NaN</td>\n",
              "      <td>NaN</td>\n",
              "      <td>a</td>\n",
              "      <td>0.979716</td>\n",
              "    </tr>\n",
              "    <tr>\n",
              "      <th>1</th>\n",
              "      <td>1443</td>\n",
              "      <td>75</td>\n",
              "      <td>0</td>\n",
              "      <td>120115</td>\n",
              "      <td>2020-09-02</td>\n",
              "      <td>2020-09-18</td>\n",
              "      <td>2020-09-18</td>\n",
              "      <td>2020-09-18</td>\n",
              "      <td>2020-09-18</td>\n",
              "      <td>NaN</td>\n",
              "      <td>d</td>\n",
              "      <td>12.197310</td>\n",
              "    </tr>\n",
              "    <tr>\n",
              "      <th>2</th>\n",
              "      <td>2210</td>\n",
              "      <td>75</td>\n",
              "      <td>0</td>\n",
              "      <td>120115</td>\n",
              "      <td>2020-09-02</td>\n",
              "      <td>2020-09-09</td>\n",
              "      <td>2020-10-01</td>\n",
              "      <td>2020-10-01</td>\n",
              "      <td>NaN</td>\n",
              "      <td>NaN</td>\n",
              "      <td>a</td>\n",
              "      <td>16.128674</td>\n",
              "    </tr>\n",
              "    <tr>\n",
              "      <th>3</th>\n",
              "      <td>2986</td>\n",
              "      <td>45</td>\n",
              "      <td>0</td>\n",
              "      <td>120115</td>\n",
              "      <td>2020-09-02</td>\n",
              "      <td>2020-09-07</td>\n",
              "      <td>2020-09-07</td>\n",
              "      <td>2020-09-07</td>\n",
              "      <td>NaN</td>\n",
              "      <td>NaN</td>\n",
              "      <td>a</td>\n",
              "      <td>1.893606</td>\n",
              "    </tr>\n",
              "    <tr>\n",
              "      <th>4</th>\n",
              "      <td>3271</td>\n",
              "      <td>55</td>\n",
              "      <td>0</td>\n",
              "      <td>120115</td>\n",
              "      <td>2020-09-02</td>\n",
              "      <td>2020-09-10</td>\n",
              "      <td>2020-09-10</td>\n",
              "      <td>2020-09-10</td>\n",
              "      <td>NaN</td>\n",
              "      <td>NaN</td>\n",
              "      <td>a</td>\n",
              "      <td>3.380968</td>\n",
              "    </tr>\n",
              "    <tr>\n",
              "      <th>...</th>\n",
              "      <td>...</td>\n",
              "      <td>...</td>\n",
              "      <td>...</td>\n",
              "      <td>...</td>\n",
              "      <td>...</td>\n",
              "      <td>...</td>\n",
              "      <td>...</td>\n",
              "      <td>...</td>\n",
              "      <td>...</td>\n",
              "      <td>...</td>\n",
              "      <td>...</td>\n",
              "      <td>...</td>\n",
              "    </tr>\n",
              "    <tr>\n",
              "      <th>13776</th>\n",
              "      <td>6041</td>\n",
              "      <td>85</td>\n",
              "      <td>1</td>\n",
              "      <td>30211</td>\n",
              "      <td>2021-03-25</td>\n",
              "      <td>2021-04-01</td>\n",
              "      <td>2021-04-17</td>\n",
              "      <td>2021-04-17</td>\n",
              "      <td>2021-04-17</td>\n",
              "      <td>NaN</td>\n",
              "      <td>d</td>\n",
              "      <td>34.204174</td>\n",
              "    </tr>\n",
              "    <tr>\n",
              "      <th>13777</th>\n",
              "      <td>6374</td>\n",
              "      <td>85</td>\n",
              "      <td>0</td>\n",
              "      <td>30211</td>\n",
              "      <td>2021-03-25</td>\n",
              "      <td>2021-03-31</td>\n",
              "      <td>2021-04-21</td>\n",
              "      <td>2021-04-21</td>\n",
              "      <td>NaN</td>\n",
              "      <td>NaN</td>\n",
              "      <td>a</td>\n",
              "      <td>36.384220</td>\n",
              "    </tr>\n",
              "    <tr>\n",
              "      <th>13778</th>\n",
              "      <td>7765</td>\n",
              "      <td>45</td>\n",
              "      <td>1</td>\n",
              "      <td>460044</td>\n",
              "      <td>2021-03-25</td>\n",
              "      <td>2021-04-01</td>\n",
              "      <td>2021-04-01</td>\n",
              "      <td>2021-04-01</td>\n",
              "      <td>NaN</td>\n",
              "      <td>NaN</td>\n",
              "      <td>a</td>\n",
              "      <td>3.446364</td>\n",
              "    </tr>\n",
              "    <tr>\n",
              "      <th>13779</th>\n",
              "      <td>9872</td>\n",
              "      <td>55</td>\n",
              "      <td>1</td>\n",
              "      <td>460044</td>\n",
              "      <td>2021-03-25</td>\n",
              "      <td>2021-03-30</td>\n",
              "      <td>2021-04-10</td>\n",
              "      <td>2021-04-16</td>\n",
              "      <td>NaN</td>\n",
              "      <td>NaN</td>\n",
              "      <td>a</td>\n",
              "      <td>8.273426</td>\n",
              "    </tr>\n",
              "    <tr>\n",
              "      <th>13780</th>\n",
              "      <td>12782</td>\n",
              "      <td>85</td>\n",
              "      <td>1</td>\n",
              "      <td>460288</td>\n",
              "      <td>2021-03-25</td>\n",
              "      <td>2021-04-01</td>\n",
              "      <td>2021-04-19</td>\n",
              "      <td>2021-04-19</td>\n",
              "      <td>2021-04-19</td>\n",
              "      <td>NaN</td>\n",
              "      <td>d</td>\n",
              "      <td>41.387051</td>\n",
              "    </tr>\n",
              "  </tbody>\n",
              "</table>\n",
              "<p>13781 rows × 12 columns</p>\n",
              "</div>"
            ],
            "text/plain": [
              "          Id  edad  sexo  ...  fechatraslado altadeftraslado ComorbidityIndex\n",
              "0        574    25     0  ...            NaN               a         0.979716\n",
              "1       1443    75     0  ...            NaN               d        12.197310\n",
              "2       2210    75     0  ...            NaN               a        16.128674\n",
              "3       2986    45     0  ...            NaN               a         1.893606\n",
              "4       3271    55     0  ...            NaN               a         3.380968\n",
              "...      ...   ...   ...  ...            ...             ...              ...\n",
              "13776   6041    85     1  ...            NaN               d        34.204174\n",
              "13777   6374    85     0  ...            NaN               a        36.384220\n",
              "13778   7765    45     1  ...            NaN               a         3.446364\n",
              "13779   9872    55     1  ...            NaN               a         8.273426\n",
              "13780  12782    85     1  ...            NaN               d        41.387051\n",
              "\n",
              "[13781 rows x 12 columns]"
            ]
          },
          "metadata": {},
          "execution_count": 4
        }
      ]
    },
    {
      "cell_type": "code",
      "metadata": {
        "colab": {
          "base_uri": "https://localhost:8080/",
          "height": 422
        },
        "id": "8qi3v-E-QP6s",
        "outputId": "1f44e2c2-0904-4bd9-f6ee-10e6e677a03f"
      },
      "source": [
        "#Sexo no puede ser categoria, lo separamos en dos columnas (hombre y mujer) \n",
        "#con valor 0, 1 - false, true respectivamente\n",
        "sexo = df0.pop('sexo')\n",
        "df0['Hombre'] = (sexo == 0)*1.0\n",
        "df0['Mujer'] = (sexo == 1)*1.0\n",
        "\n",
        "#Preparamos datos de fechas\n",
        "df0['fechaingrehosp'] = pd.to_datetime(df0['fechaingrehosp'], format='%Y-%m-%d')\n",
        "df0['fechaaltahosp'] = pd.to_datetime(df0['fechaaltahosp'], format='%Y-%m-%d')\n",
        "ingreso = df0.pop('fechaingrehosp')\n",
        "salida = df0.pop('fechaaltahosp')\n",
        "df0['diasencama'] = (salida - ingreso).dt.days\n",
        "\n",
        "#Quitamos las columnas que no nos sirven\n",
        "df01 = df0.drop(columns=['Id','CNH','fechaingreuci','fechaaltauci',\n",
        "                       'fechadefunc','fechatraslado','altadeftraslado'])\n",
        "df01"
      ],
      "execution_count": 5,
      "outputs": [
        {
          "output_type": "execute_result",
          "data": {
            "text/html": [
              "<div>\n",
              "<style scoped>\n",
              "    .dataframe tbody tr th:only-of-type {\n",
              "        vertical-align: middle;\n",
              "    }\n",
              "\n",
              "    .dataframe tbody tr th {\n",
              "        vertical-align: top;\n",
              "    }\n",
              "\n",
              "    .dataframe thead th {\n",
              "        text-align: right;\n",
              "    }\n",
              "</style>\n",
              "<table border=\"1\" class=\"dataframe\">\n",
              "  <thead>\n",
              "    <tr style=\"text-align: right;\">\n",
              "      <th></th>\n",
              "      <th>edad</th>\n",
              "      <th>ComorbidityIndex</th>\n",
              "      <th>Hombre</th>\n",
              "      <th>Mujer</th>\n",
              "      <th>diasencama</th>\n",
              "    </tr>\n",
              "  </thead>\n",
              "  <tbody>\n",
              "    <tr>\n",
              "      <th>0</th>\n",
              "      <td>25</td>\n",
              "      <td>0.979716</td>\n",
              "      <td>1.0</td>\n",
              "      <td>0.0</td>\n",
              "      <td>6</td>\n",
              "    </tr>\n",
              "    <tr>\n",
              "      <th>1</th>\n",
              "      <td>75</td>\n",
              "      <td>12.197310</td>\n",
              "      <td>1.0</td>\n",
              "      <td>0.0</td>\n",
              "      <td>16</td>\n",
              "    </tr>\n",
              "    <tr>\n",
              "      <th>2</th>\n",
              "      <td>75</td>\n",
              "      <td>16.128674</td>\n",
              "      <td>1.0</td>\n",
              "      <td>0.0</td>\n",
              "      <td>29</td>\n",
              "    </tr>\n",
              "    <tr>\n",
              "      <th>3</th>\n",
              "      <td>45</td>\n",
              "      <td>1.893606</td>\n",
              "      <td>1.0</td>\n",
              "      <td>0.0</td>\n",
              "      <td>5</td>\n",
              "    </tr>\n",
              "    <tr>\n",
              "      <th>4</th>\n",
              "      <td>55</td>\n",
              "      <td>3.380968</td>\n",
              "      <td>1.0</td>\n",
              "      <td>0.0</td>\n",
              "      <td>8</td>\n",
              "    </tr>\n",
              "    <tr>\n",
              "      <th>...</th>\n",
              "      <td>...</td>\n",
              "      <td>...</td>\n",
              "      <td>...</td>\n",
              "      <td>...</td>\n",
              "      <td>...</td>\n",
              "    </tr>\n",
              "    <tr>\n",
              "      <th>13776</th>\n",
              "      <td>85</td>\n",
              "      <td>34.204174</td>\n",
              "      <td>0.0</td>\n",
              "      <td>1.0</td>\n",
              "      <td>23</td>\n",
              "    </tr>\n",
              "    <tr>\n",
              "      <th>13777</th>\n",
              "      <td>85</td>\n",
              "      <td>36.384220</td>\n",
              "      <td>1.0</td>\n",
              "      <td>0.0</td>\n",
              "      <td>27</td>\n",
              "    </tr>\n",
              "    <tr>\n",
              "      <th>13778</th>\n",
              "      <td>45</td>\n",
              "      <td>3.446364</td>\n",
              "      <td>0.0</td>\n",
              "      <td>1.0</td>\n",
              "      <td>7</td>\n",
              "    </tr>\n",
              "    <tr>\n",
              "      <th>13779</th>\n",
              "      <td>55</td>\n",
              "      <td>8.273426</td>\n",
              "      <td>0.0</td>\n",
              "      <td>1.0</td>\n",
              "      <td>22</td>\n",
              "    </tr>\n",
              "    <tr>\n",
              "      <th>13780</th>\n",
              "      <td>85</td>\n",
              "      <td>41.387051</td>\n",
              "      <td>0.0</td>\n",
              "      <td>1.0</td>\n",
              "      <td>25</td>\n",
              "    </tr>\n",
              "  </tbody>\n",
              "</table>\n",
              "<p>13781 rows × 5 columns</p>\n",
              "</div>"
            ],
            "text/plain": [
              "       edad  ComorbidityIndex  Hombre  Mujer  diasencama\n",
              "0        25          0.979716     1.0    0.0           6\n",
              "1        75         12.197310     1.0    0.0          16\n",
              "2        75         16.128674     1.0    0.0          29\n",
              "3        45          1.893606     1.0    0.0           5\n",
              "4        55          3.380968     1.0    0.0           8\n",
              "...     ...               ...     ...    ...         ...\n",
              "13776    85         34.204174     0.0    1.0          23\n",
              "13777    85         36.384220     1.0    0.0          27\n",
              "13778    45          3.446364     0.0    1.0           7\n",
              "13779    55          8.273426     0.0    1.0          22\n",
              "13780    85         41.387051     0.0    1.0          25\n",
              "\n",
              "[13781 rows x 5 columns]"
            ]
          },
          "metadata": {},
          "execution_count": 5
        }
      ]
    },
    {
      "cell_type": "code",
      "metadata": {
        "id": "W2AXl9w4QzLN"
      },
      "source": [
        "#Se guarda el csv manualmente en el repositorio de github en 'outputtables'\n",
        "df01.to_csv('DataFrame.csv')"
      ],
      "execution_count": 6,
      "outputs": []
    },
    {
      "cell_type": "code",
      "metadata": {
        "colab": {
          "base_uri": "https://localhost:8080/",
          "height": 362
        },
        "id": "zlzZadMA-peK",
        "outputId": "302906b6-89a8-427a-c61f-b17b4a9d940c"
      },
      "source": [
        "import pandas as pd \n",
        "import numpy as np\n",
        "import tensorflow as tf\n",
        "from matplotlib import pyplot as plt\n",
        "\n",
        "direccion0='https://raw.githubusercontent.com/jamg-upv/CAHOS19/main/outputtables/DataFrame.csv'\n",
        "df=pd.read_csv(direccion0, delimiter=',')\n",
        "df.head(10)"
      ],
      "execution_count": 8,
      "outputs": [
        {
          "output_type": "execute_result",
          "data": {
            "text/html": [
              "<div>\n",
              "<style scoped>\n",
              "    .dataframe tbody tr th:only-of-type {\n",
              "        vertical-align: middle;\n",
              "    }\n",
              "\n",
              "    .dataframe tbody tr th {\n",
              "        vertical-align: top;\n",
              "    }\n",
              "\n",
              "    .dataframe thead th {\n",
              "        text-align: right;\n",
              "    }\n",
              "</style>\n",
              "<table border=\"1\" class=\"dataframe\">\n",
              "  <thead>\n",
              "    <tr style=\"text-align: right;\">\n",
              "      <th></th>\n",
              "      <th>Unnamed: 0</th>\n",
              "      <th>edad</th>\n",
              "      <th>ComorbidityIndex</th>\n",
              "      <th>Hombre</th>\n",
              "      <th>Mujer</th>\n",
              "      <th>diasencama</th>\n",
              "    </tr>\n",
              "  </thead>\n",
              "  <tbody>\n",
              "    <tr>\n",
              "      <th>0</th>\n",
              "      <td>0</td>\n",
              "      <td>25</td>\n",
              "      <td>0.979715</td>\n",
              "      <td>1.0</td>\n",
              "      <td>0.0</td>\n",
              "      <td>6</td>\n",
              "    </tr>\n",
              "    <tr>\n",
              "      <th>1</th>\n",
              "      <td>1</td>\n",
              "      <td>75</td>\n",
              "      <td>12.197310</td>\n",
              "      <td>1.0</td>\n",
              "      <td>0.0</td>\n",
              "      <td>16</td>\n",
              "    </tr>\n",
              "    <tr>\n",
              "      <th>2</th>\n",
              "      <td>2</td>\n",
              "      <td>75</td>\n",
              "      <td>16.128674</td>\n",
              "      <td>1.0</td>\n",
              "      <td>0.0</td>\n",
              "      <td>29</td>\n",
              "    </tr>\n",
              "    <tr>\n",
              "      <th>3</th>\n",
              "      <td>3</td>\n",
              "      <td>45</td>\n",
              "      <td>1.893606</td>\n",
              "      <td>1.0</td>\n",
              "      <td>0.0</td>\n",
              "      <td>5</td>\n",
              "    </tr>\n",
              "    <tr>\n",
              "      <th>4</th>\n",
              "      <td>4</td>\n",
              "      <td>55</td>\n",
              "      <td>3.380968</td>\n",
              "      <td>1.0</td>\n",
              "      <td>0.0</td>\n",
              "      <td>8</td>\n",
              "    </tr>\n",
              "    <tr>\n",
              "      <th>5</th>\n",
              "      <td>5</td>\n",
              "      <td>55</td>\n",
              "      <td>2.841149</td>\n",
              "      <td>1.0</td>\n",
              "      <td>0.0</td>\n",
              "      <td>12</td>\n",
              "    </tr>\n",
              "    <tr>\n",
              "      <th>6</th>\n",
              "      <td>6</td>\n",
              "      <td>55</td>\n",
              "      <td>4.545839</td>\n",
              "      <td>1.0</td>\n",
              "      <td>0.0</td>\n",
              "      <td>9</td>\n",
              "    </tr>\n",
              "    <tr>\n",
              "      <th>7</th>\n",
              "      <td>7</td>\n",
              "      <td>85</td>\n",
              "      <td>22.364268</td>\n",
              "      <td>1.0</td>\n",
              "      <td>0.0</td>\n",
              "      <td>23</td>\n",
              "    </tr>\n",
              "    <tr>\n",
              "      <th>8</th>\n",
              "      <td>8</td>\n",
              "      <td>75</td>\n",
              "      <td>12.396194</td>\n",
              "      <td>0.0</td>\n",
              "      <td>1.0</td>\n",
              "      <td>15</td>\n",
              "    </tr>\n",
              "    <tr>\n",
              "      <th>9</th>\n",
              "      <td>9</td>\n",
              "      <td>55</td>\n",
              "      <td>2.841149</td>\n",
              "      <td>1.0</td>\n",
              "      <td>0.0</td>\n",
              "      <td>10</td>\n",
              "    </tr>\n",
              "  </tbody>\n",
              "</table>\n",
              "</div>"
            ],
            "text/plain": [
              "   Unnamed: 0  edad  ComorbidityIndex  Hombre  Mujer  diasencama\n",
              "0           0    25          0.979715     1.0    0.0           6\n",
              "1           1    75         12.197310     1.0    0.0          16\n",
              "2           2    75         16.128674     1.0    0.0          29\n",
              "3           3    45          1.893606     1.0    0.0           5\n",
              "4           4    55          3.380968     1.0    0.0           8\n",
              "5           5    55          2.841149     1.0    0.0          12\n",
              "6           6    55          4.545839     1.0    0.0           9\n",
              "7           7    85         22.364268     1.0    0.0          23\n",
              "8           8    75         12.396194     0.0    1.0          15\n",
              "9           9    55          2.841149     1.0    0.0          10"
            ]
          },
          "metadata": {},
          "execution_count": 8
        }
      ]
    },
    {
      "cell_type": "code",
      "metadata": {
        "colab": {
          "base_uri": "https://localhost:8080/",
          "height": 422
        },
        "id": "by7-Jq0rBBks",
        "outputId": "d5752187-17a4-4446-b48e-322b55858438"
      },
      "source": [
        "df2 = df.drop(range(13781,13781), axis=0)\n",
        "df2"
      ],
      "execution_count": 9,
      "outputs": [
        {
          "output_type": "execute_result",
          "data": {
            "text/html": [
              "<div>\n",
              "<style scoped>\n",
              "    .dataframe tbody tr th:only-of-type {\n",
              "        vertical-align: middle;\n",
              "    }\n",
              "\n",
              "    .dataframe tbody tr th {\n",
              "        vertical-align: top;\n",
              "    }\n",
              "\n",
              "    .dataframe thead th {\n",
              "        text-align: right;\n",
              "    }\n",
              "</style>\n",
              "<table border=\"1\" class=\"dataframe\">\n",
              "  <thead>\n",
              "    <tr style=\"text-align: right;\">\n",
              "      <th></th>\n",
              "      <th>Unnamed: 0</th>\n",
              "      <th>edad</th>\n",
              "      <th>ComorbidityIndex</th>\n",
              "      <th>Hombre</th>\n",
              "      <th>Mujer</th>\n",
              "      <th>diasencama</th>\n",
              "    </tr>\n",
              "  </thead>\n",
              "  <tbody>\n",
              "    <tr>\n",
              "      <th>0</th>\n",
              "      <td>0</td>\n",
              "      <td>25</td>\n",
              "      <td>0.979715</td>\n",
              "      <td>1.0</td>\n",
              "      <td>0.0</td>\n",
              "      <td>6</td>\n",
              "    </tr>\n",
              "    <tr>\n",
              "      <th>1</th>\n",
              "      <td>1</td>\n",
              "      <td>75</td>\n",
              "      <td>12.197310</td>\n",
              "      <td>1.0</td>\n",
              "      <td>0.0</td>\n",
              "      <td>16</td>\n",
              "    </tr>\n",
              "    <tr>\n",
              "      <th>2</th>\n",
              "      <td>2</td>\n",
              "      <td>75</td>\n",
              "      <td>16.128674</td>\n",
              "      <td>1.0</td>\n",
              "      <td>0.0</td>\n",
              "      <td>29</td>\n",
              "    </tr>\n",
              "    <tr>\n",
              "      <th>3</th>\n",
              "      <td>3</td>\n",
              "      <td>45</td>\n",
              "      <td>1.893606</td>\n",
              "      <td>1.0</td>\n",
              "      <td>0.0</td>\n",
              "      <td>5</td>\n",
              "    </tr>\n",
              "    <tr>\n",
              "      <th>4</th>\n",
              "      <td>4</td>\n",
              "      <td>55</td>\n",
              "      <td>3.380968</td>\n",
              "      <td>1.0</td>\n",
              "      <td>0.0</td>\n",
              "      <td>8</td>\n",
              "    </tr>\n",
              "    <tr>\n",
              "      <th>...</th>\n",
              "      <td>...</td>\n",
              "      <td>...</td>\n",
              "      <td>...</td>\n",
              "      <td>...</td>\n",
              "      <td>...</td>\n",
              "      <td>...</td>\n",
              "    </tr>\n",
              "    <tr>\n",
              "      <th>13776</th>\n",
              "      <td>13776</td>\n",
              "      <td>85</td>\n",
              "      <td>34.204174</td>\n",
              "      <td>0.0</td>\n",
              "      <td>1.0</td>\n",
              "      <td>23</td>\n",
              "    </tr>\n",
              "    <tr>\n",
              "      <th>13777</th>\n",
              "      <td>13777</td>\n",
              "      <td>85</td>\n",
              "      <td>36.384220</td>\n",
              "      <td>1.0</td>\n",
              "      <td>0.0</td>\n",
              "      <td>27</td>\n",
              "    </tr>\n",
              "    <tr>\n",
              "      <th>13778</th>\n",
              "      <td>13778</td>\n",
              "      <td>45</td>\n",
              "      <td>3.446364</td>\n",
              "      <td>0.0</td>\n",
              "      <td>1.0</td>\n",
              "      <td>7</td>\n",
              "    </tr>\n",
              "    <tr>\n",
              "      <th>13779</th>\n",
              "      <td>13779</td>\n",
              "      <td>55</td>\n",
              "      <td>8.273426</td>\n",
              "      <td>0.0</td>\n",
              "      <td>1.0</td>\n",
              "      <td>22</td>\n",
              "    </tr>\n",
              "    <tr>\n",
              "      <th>13780</th>\n",
              "      <td>13780</td>\n",
              "      <td>85</td>\n",
              "      <td>41.387051</td>\n",
              "      <td>0.0</td>\n",
              "      <td>1.0</td>\n",
              "      <td>25</td>\n",
              "    </tr>\n",
              "  </tbody>\n",
              "</table>\n",
              "<p>13781 rows × 6 columns</p>\n",
              "</div>"
            ],
            "text/plain": [
              "       Unnamed: 0  edad  ComorbidityIndex  Hombre  Mujer  diasencama\n",
              "0               0    25          0.979715     1.0    0.0           6\n",
              "1               1    75         12.197310     1.0    0.0          16\n",
              "2               2    75         16.128674     1.0    0.0          29\n",
              "3               3    45          1.893606     1.0    0.0           5\n",
              "4               4    55          3.380968     1.0    0.0           8\n",
              "...           ...   ...               ...     ...    ...         ...\n",
              "13776       13776    85         34.204174     0.0    1.0          23\n",
              "13777       13777    85         36.384220     1.0    0.0          27\n",
              "13778       13778    45          3.446364     0.0    1.0           7\n",
              "13779       13779    55          8.273426     0.0    1.0          22\n",
              "13780       13780    85         41.387051     0.0    1.0          25\n",
              "\n",
              "[13781 rows x 6 columns]"
            ]
          },
          "metadata": {},
          "execution_count": 9
        }
      ]
    },
    {
      "cell_type": "code",
      "metadata": {
        "id": "CTonShUW-2qD"
      },
      "source": [
        "#Hacemos array\n",
        "datos_entrada = np.array(df2[['edad','ComorbidityIndex', \n",
        "                              'Hombre', 'Mujer']], dtype=float)\n",
        "dias_cama = np.array(df2['diasencama'], dtype=float)\n",
        "print(datos_entrada)"
      ],
      "execution_count": null,
      "outputs": []
    },
    {
      "cell_type": "code",
      "metadata": {
        "id": "kH8RNFwZ_5_J"
      },
      "source": [
        "#Con capas ocultas\n",
        "oculta1 = tf.keras.layers.Dense(units=4, input_shape=[4])\n",
        "oculta2 = tf.keras.layers.Dense(units=5)\n",
        "oculta3 = tf.keras.layers.Dense(units=2)\n",
        "salida = tf.keras.layers.Dense(units=1)\n",
        "modelo = tf.keras.Sequential([oculta1, oculta2, oculta3, salida])"
      ],
      "execution_count": null,
      "outputs": []
    },
    {
      "cell_type": "code",
      "metadata": {
        "id": "Gbn6B9TbBuQ-"
      },
      "source": [
        "#Compilamos modelo\n",
        "modelo.compile(\n",
        "    optimizer = tf.keras.optimizers.Adam(0.5),\n",
        "    loss='mean_squared_error'\n",
        ")"
      ],
      "execution_count": null,
      "outputs": []
    },
    {
      "cell_type": "code",
      "metadata": {
        "colab": {
          "base_uri": "https://localhost:8080/"
        },
        "id": "B_zg2dD9Bzo-",
        "outputId": "e17dacdd-0da2-40af-bc8a-ed7d148fa3d5"
      },
      "source": [
        "print('Hola, comenzamos en 3,2,1...')\n",
        "historial = modelo.fit(datos_entrada, dias_cama, epochs=1000, verbose=False)\n",
        "print('Esta ready')"
      ],
      "execution_count": null,
      "outputs": [
        {
          "output_type": "stream",
          "text": [
            "Hola, comenzamos en 3,2,1...\n",
            "Esta ready\n"
          ],
          "name": "stdout"
        }
      ]
    },
    {
      "cell_type": "code",
      "metadata": {
        "colab": {
          "base_uri": "https://localhost:8080/",
          "height": 307
        },
        "id": "160XWjNEB5se",
        "outputId": "b0e2e10c-e0d2-4f1f-9553-d9fbd6d1457f"
      },
      "source": [
        "plt.xlabel('Epoca')\n",
        "plt.ylabel('Magnitud de perdida')\n",
        "plt.plot(historial.history['loss'])"
      ],
      "execution_count": null,
      "outputs": [
        {
          "output_type": "execute_result",
          "data": {
            "text/plain": [
              "[<matplotlib.lines.Line2D at 0x7f9986ef0b90>]"
            ]
          },
          "metadata": {},
          "execution_count": 89
        },
        {
          "output_type": "display_data",
          "data": {
            "image/png": "[encoded data removed]",
            "text/plain": [
              "<Figure size 432x288 with 1 Axes>"
            ]
          },
          "metadata": {
            "needs_background": "light"
          }
        }
      ]
    },
    {
      "cell_type": "code",
      "metadata": {
        "colab": {
          "base_uri": "https://localhost:8080/"
        },
        "id": "3-B6SR1RCGWz",
        "outputId": "bcc3a5e5-eab2-48a9-8c16-46d73aefa6cd"
      },
      "source": [
        "print('Hacemos una predicción')\n",
        "resultado = modelo.predict([[65.0,4.4,1.0,0.0]])\n",
        "print('El resultado es' + str(resultado) + 'en cama')"
      ],
      "execution_count": null,
      "outputs": [
        {
          "output_type": "stream",
          "text": [
            "Hacemos una predicción\n",
            "El resultado es[[13.649256]]en cama\n"
          ],
          "name": "stdout"
        }
      ]
    },
    {
      "cell_type": "code",
      "metadata": {
        "id": "SCD4V74XCR-V"
      },
      "source": [
        "paciente1 = [25.0,0.97,1.0,0.0]\n",
        "paciente2 = [75.0,12.19,1.0,0.0]\n",
        "paciente3 = [75.0,16.12,1.0,0.0]\n",
        "paciente4 = [45.0, 1.89,1.0,0.0]\n",
        "paciente5 = [55.0,3.38,1.0,0.0]\n",
        "paciente6 = [75.0,12.39,0.0,1.0]\n",
        "paciente7 = [65.0,9.69,0.0,1.0]\n",
        "paciente8 = [65.0,8.01,0.0,1.0]\n",
        "paciente9 = [75.0,13.39,0.0,1.0]\n",
        "paciente10 = [85.0,40.7,0.0,1.0]"
      ],
      "execution_count": null,
      "outputs": []
    },
    {
      "cell_type": "code",
      "metadata": {
        "colab": {
          "base_uri": "https://localhost:8080/"
        },
        "id": "UbVP7Mhzcqmd",
        "outputId": "414e805f-c985-447d-c225-65dcbe7cddb3"
      },
      "source": [
        "print('Hacemos una predicción')\n",
        "resultado = modelo.predict([paciente1, paciente2, paciente3, paciente4, paciente5, paciente6, paciente7, paciente8, paciente9, paciente10])\n",
        "print('El resultado es' + str(resultado) + 'en cama')"
      ],
      "execution_count": null,
      "outputs": [
        {
          "output_type": "stream",
          "text": [
            "Hacemos una predicción\n",
            "El resultado es[[-71.7434  ]\n",
            " [ 19.06495 ]\n",
            " [ 15.375778]\n",
            " [-32.058975]\n",
            " [-13.191799]\n",
            " [ 32.87774 ]\n",
            " [ 15.150934]\n",
            " [ 16.72753 ]\n",
            " [ 31.93396 ]\n",
            " [ 26.54299 ]]en cama\n"
          ],
          "name": "stdout"
        }
      ]
    },
    {
      "cell_type": "code",
      "metadata": {
        "id": "N3BzUI0OTh6-"
      },
      "source": [
        "ocupacion_camas=pd.DataFrame(resultado)"
      ],
      "execution_count": null,
      "outputs": []
    },
    {
      "cell_type": "code",
      "metadata": {
        "colab": {
          "base_uri": "https://localhost:8080/",
          "height": 362
        },
        "id": "adc1W6-nUCiw",
        "outputId": "5f72e14c-5325-406f-90eb-e0229a7863dc"
      },
      "source": [
        "ocupacion_camas"
      ],
      "execution_count": null,
      "outputs": [
        {
          "output_type": "execute_result",
          "data": {
            "text/html": [
              "<div>\n",
              "<style scoped>\n",
              "    .dataframe tbody tr th:only-of-type {\n",
              "        vertical-align: middle;\n",
              "    }\n",
              "\n",
              "    .dataframe tbody tr th {\n",
              "        vertical-align: top;\n",
              "    }\n",
              "\n",
              "    .dataframe thead th {\n",
              "        text-align: right;\n",
              "    }\n",
              "</style>\n",
              "<table border=\"1\" class=\"dataframe\">\n",
              "  <thead>\n",
              "    <tr style=\"text-align: right;\">\n",
              "      <th></th>\n",
              "      <th>0</th>\n",
              "    </tr>\n",
              "  </thead>\n",
              "  <tbody>\n",
              "    <tr>\n",
              "      <th>0</th>\n",
              "      <td>7.955434</td>\n",
              "    </tr>\n",
              "    <tr>\n",
              "      <th>1</th>\n",
              "      <td>15.354627</td>\n",
              "    </tr>\n",
              "    <tr>\n",
              "      <th>2</th>\n",
              "      <td>15.899896</td>\n",
              "    </tr>\n",
              "    <tr>\n",
              "      <th>3</th>\n",
              "      <td>10.420067</td>\n",
              "    </tr>\n",
              "    <tr>\n",
              "      <th>4</th>\n",
              "      <td>11.795292</td>\n",
              "    </tr>\n",
              "    <tr>\n",
              "      <th>5</th>\n",
              "      <td>23.649464</td>\n",
              "    </tr>\n",
              "    <tr>\n",
              "      <th>6</th>\n",
              "      <td>22.106356</td>\n",
              "    </tr>\n",
              "    <tr>\n",
              "      <th>7</th>\n",
              "      <td>21.873264</td>\n",
              "    </tr>\n",
              "    <tr>\n",
              "      <th>8</th>\n",
              "      <td>23.788208</td>\n",
              "    </tr>\n",
              "    <tr>\n",
              "      <th>9</th>\n",
              "      <td>28.745838</td>\n",
              "    </tr>\n",
              "  </tbody>\n",
              "</table>\n",
              "</div>"
            ],
            "text/plain": [
              "           0\n",
              "0   7.955434\n",
              "1  15.354627\n",
              "2  15.899896\n",
              "3  10.420067\n",
              "4  11.795292\n",
              "5  23.649464\n",
              "6  22.106356\n",
              "7  21.873264\n",
              "8  23.788208\n",
              "9  28.745838"
            ]
          },
          "metadata": {},
          "execution_count": 67
        }
      ]
    },
    {
      "cell_type": "code",
      "metadata": {
        "id": "deFktJpoUKR9"
      },
      "source": [
        "dias = ['dia 1', 'dia 2', 'dia 3', 'dia 4', 'dia 5', 'dia 6', 'dia 7', 'dia 8', 'dia 9', 'dia 10', 'dia 11', 'dia 12', 'dia 13', 'dia 14']\n",
        "ocupacion_por_dia = pd.DataFrame(columns=dias)"
      ],
      "execution_count": null,
      "outputs": []
    },
    {
      "cell_type": "code",
      "metadata": {
        "id": "8wmHjdJ_Wyhf",
        "colab": {
          "base_uri": "https://localhost:8080/"
        },
        "outputId": "579d152c-fde6-46be-8121-fcffb0528a25"
      },
      "source": [
        "row = []\n",
        "data = []\n",
        "for count  in range(0, len(resultado)):\n",
        "    for dia in range(0, len(dias)):\n",
        "      if (dia+1 <= int(resultado[count])):\n",
        "        row.append(1)\n",
        "      else:\n",
        "        row.append(0) \n",
        "    print(row)\n",
        "    data.append(row)\n",
        "    row = []\n",
        "print(data)\n",
        "a = np.sum(data,axis=0)\n",
        "a"
      ],
      "execution_count": null,
      "outputs": [
        {
          "output_type": "stream",
          "text": [
            "[1, 1, 1, 1, 1, 1, 1, 0, 0, 0, 0, 0, 0, 0]\n",
            "[1, 1, 1, 1, 1, 1, 1, 1, 1, 1, 1, 1, 1, 1]\n",
            "[1, 1, 1, 1, 1, 1, 1, 1, 1, 1, 1, 1, 1, 1]\n",
            "[1, 1, 1, 1, 1, 1, 1, 1, 1, 1, 0, 0, 0, 0]\n",
            "[1, 1, 1, 1, 1, 1, 1, 1, 1, 1, 1, 0, 0, 0]\n",
            "[1, 1, 1, 1, 1, 1, 1, 1, 1, 1, 1, 1, 1, 1]\n",
            "[1, 1, 1, 1, 1, 1, 1, 1, 1, 1, 1, 1, 1, 1]\n",
            "[1, 1, 1, 1, 1, 1, 1, 1, 1, 1, 1, 1, 1, 1]\n",
            "[1, 1, 1, 1, 1, 1, 1, 1, 1, 1, 1, 1, 1, 1]\n",
            "[1, 1, 1, 1, 1, 1, 1, 1, 1, 1, 1, 1, 1, 1]\n",
            "[[1, 1, 1, 1, 1, 1, 1, 0, 0, 0, 0, 0, 0, 0], [1, 1, 1, 1, 1, 1, 1, 1, 1, 1, 1, 1, 1, 1], [1, 1, 1, 1, 1, 1, 1, 1, 1, 1, 1, 1, 1, 1], [1, 1, 1, 1, 1, 1, 1, 1, 1, 1, 0, 0, 0, 0], [1, 1, 1, 1, 1, 1, 1, 1, 1, 1, 1, 0, 0, 0], [1, 1, 1, 1, 1, 1, 1, 1, 1, 1, 1, 1, 1, 1], [1, 1, 1, 1, 1, 1, 1, 1, 1, 1, 1, 1, 1, 1], [1, 1, 1, 1, 1, 1, 1, 1, 1, 1, 1, 1, 1, 1], [1, 1, 1, 1, 1, 1, 1, 1, 1, 1, 1, 1, 1, 1], [1, 1, 1, 1, 1, 1, 1, 1, 1, 1, 1, 1, 1, 1]]\n"
          ],
          "name": "stdout"
        },
        {
          "output_type": "execute_result",
          "data": {
            "text/plain": [
              "array([10, 10, 10, 10, 10, 10, 10,  9,  9,  9,  8,  7,  7,  7])"
            ]
          },
          "metadata": {},
          "execution_count": 69
        }
      ]
    },
    {
      "cell_type": "code",
      "metadata": {
        "id": "CdCY6yiRjrY2"
      },
      "source": [
        "ocupacion_por_dia.loc[0]=a"
      ],
      "execution_count": null,
      "outputs": []
    },
    {
      "cell_type": "code",
      "metadata": {
        "colab": {
          "base_uri": "https://localhost:8080/",
          "height": 81
        },
        "id": "kUdmpVlAe-ps",
        "outputId": "1f6f0ab9-7d13-4c2a-864c-cbd5c0f8b405"
      },
      "source": [
        "ocupacion_por_dia"
      ],
      "execution_count": null,
      "outputs": [
        {
          "output_type": "execute_result",
          "data": {
            "text/html": [
              "<div>\n",
              "<style scoped>\n",
              "    .dataframe tbody tr th:only-of-type {\n",
              "        vertical-align: middle;\n",
              "    }\n",
              "\n",
              "    .dataframe tbody tr th {\n",
              "        vertical-align: top;\n",
              "    }\n",
              "\n",
              "    .dataframe thead th {\n",
              "        text-align: right;\n",
              "    }\n",
              "</style>\n",
              "<table border=\"1\" class=\"dataframe\">\n",
              "  <thead>\n",
              "    <tr style=\"text-align: right;\">\n",
              "      <th></th>\n",
              "      <th>dia 1</th>\n",
              "      <th>dia 2</th>\n",
              "      <th>dia 3</th>\n",
              "      <th>dia 4</th>\n",
              "      <th>dia 5</th>\n",
              "      <th>dia 6</th>\n",
              "      <th>dia 7</th>\n",
              "      <th>dia 8</th>\n",
              "      <th>dia 9</th>\n",
              "      <th>dia 10</th>\n",
              "      <th>dia 11</th>\n",
              "      <th>dia 12</th>\n",
              "      <th>dia 13</th>\n",
              "      <th>dia 14</th>\n",
              "    </tr>\n",
              "  </thead>\n",
              "  <tbody>\n",
              "    <tr>\n",
              "      <th>0</th>\n",
              "      <td>10</td>\n",
              "      <td>10</td>\n",
              "      <td>10</td>\n",
              "      <td>10</td>\n",
              "      <td>10</td>\n",
              "      <td>10</td>\n",
              "      <td>10</td>\n",
              "      <td>9</td>\n",
              "      <td>9</td>\n",
              "      <td>9</td>\n",
              "      <td>8</td>\n",
              "      <td>7</td>\n",
              "      <td>7</td>\n",
              "      <td>7</td>\n",
              "    </tr>\n",
              "  </tbody>\n",
              "</table>\n",
              "</div>"
            ],
            "text/plain": [
              "  dia 1 dia 2 dia 3 dia 4 dia 5 dia 6  ... dia 9 dia 10 dia 11 dia 12 dia 13 dia 14\n",
              "0    10    10    10    10    10    10  ...     9      9      8      7      7      7\n",
              "\n",
              "[1 rows x 14 columns]"
            ]
          },
          "metadata": {},
          "execution_count": 71
        }
      ]
    }
  ]
}