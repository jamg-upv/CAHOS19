{
  "nbformat": 4,
  "nbformat_minor": 0,
  "metadata": {
    "colab": {
      "name": "visualizacion_evolucion.ipynb",
      "provenance": [],
      "collapsed_sections": [],
      "authorship_tag": "ABX9TyMFTkdjI9LMaGBzJ7WwzZwM",
      "include_colab_link": true
    },
    "kernelspec": {
      "name": "python3",
      "display_name": "Python 3"
    },
    "language_info": {
      "name": "python"
    }
  },
  "cells": [
    {
      "cell_type": "markdown",
      "metadata": {
        "id": "view-in-github",
        "colab_type": "text"
      },
      "source": [
        "<a href=\"https://colab.research.google.com/github/jamg-upv/CAHOS19/blob/main/tree/main/python/visualizacion_evolucion.ipynb\" target=\"_parent\"><img src=\"https://colab.research.google.com/assets/colab-badge.svg\" alt=\"Open In Colab\"/></a>"
      ]
    },
    {
      "cell_type": "markdown",
      "metadata": {
        "id": "P3_PUbW8sSV0"
      },
      "source": [
        "#**Empezamos importando el csv orignial**#\n",
        "llamado \"Capacidad_Asistencial_Historico_gobes.csv\", convirtiendo las columnas que tocan en fechas\n",
        "\n"
      ]
    },
    {
      "cell_type": "code",
      "metadata": {
        "id": "8-VeWJLdYZ-f"
      },
      "source": [
        "import pandas as pd\n",
        "import seaborn as sns\n",
        "import numpy as np\n",
        "from datetime import datetime, timedelta\n",
        "\n",
        "direccion0=\"https://raw.githubusercontent.com/jamg-upv/CAHOS19/main/inputtables/Capacidad_Asistencial_Historico_gobes.csv\"\n",
        "capacidad_asistencial=pd.read_csv(direccion0, delimiter=';', encoding='latin_1')\n",
        "capacidad_asistencial['Fecha'] = pd.to_datetime(capacidad_asistencial['Fecha'], format=\"%d/%m/%Y\")\n",
        "\n",
        "byprovincia=capacidad_asistencial.groupby(['Provincia'], as_index=False).agg('mean')\n"
      ],
      "execution_count": 106,
      "outputs": []
    },
    {
      "cell_type": "code",
      "metadata": {
        "id": "xcQFUcr6Z1po"
      },
      "source": [
        "#ordena el archivo primero por fechas y luego por código provincial\n",
        "cap_asis = capacidad_asistencial.sort_values(['Fecha', 'Cod_Provincia'])"
      ],
      "execution_count": 56,
      "outputs": []
    },
    {
      "cell_type": "code",
      "metadata": {
        "id": "8ZQHxAvvgiia"
      },
      "source": [
        "#Lo que hacemos es agrupar según provincia, y luego por fecha para que haga la suma de las de: TOTAL_CAMAS, OCUPADAS_COVID19, OCUPADAS_NO_COVID19\n",
        "cap_asis1=cap_asis.groupby(['Cod_Provincia', 'Fecha'])['TOTAL_CAMAS', 'OCUPADAS_COVID19', 'OCUPADAS_NO_COVID19'].apply(sum)\n",
        "\n",
        "cap_asis1"
      ],
      "execution_count": null,
      "outputs": []
    },
    {
      "cell_type": "code",
      "metadata": {
        "id": "hm10xbfYrS8r"
      },
      "source": [
        "#Ahora lo que buscamos es dejar solo la comulma de OCUPADAS_COVID19 en funcion de la provincia y las fechas\n",
        "cap_asis2=cap_asis1.drop(['TOTAL_CAMAS', 'OCUPADAS_NO_COVID19'], axis=1)\n",
        "cap_asis2"
      ],
      "execution_count": null,
      "outputs": []
    },
    {
      "cell_type": "code",
      "metadata": {
        "id": "senna3zUwY-A"
      },
      "source": [
        "#Generamos un archivo CSV con la nueva tabla creada con los nuevos agrupamientos\n",
        "\n",
        "cap_asis2.to_csv('provincias_camas_totuci_covid_nocovid.csv')"
      ],
      "execution_count": 120,
      "outputs": []
    },
    {
      "cell_type": "markdown",
      "metadata": {
        "id": "deCojCLbs6S7"
      },
      "source": [
        "#**Importamos nuevo csv reorganizado y estructurado**#\n",
        "llamado: \"provincias_camas_totuci_covid_nocovid.csv\" de los outputtable\n",
        "Aquí lo que haremos será la puesta a punto para meterlo directamente en el flourish (transpondremos filas y columnas)"
      ]
    },
    {
      "cell_type": "code",
      "metadata": {
        "colab": {
          "base_uri": "https://localhost:8080/",
          "height": 419
        },
        "id": "Cv72UKtUp-bn",
        "outputId": "912322e0-90a7-4c85-d222-44b2408538d7"
      },
      "source": [
        "direccion1=\"https://raw.githubusercontent.com/jamg-upv/CAHOS19/main/outputtables/provincias_camas_totuci_covid_nocovid.csv\"\n",
        "provincias_camas=pd.read_csv(direccion1, delimiter=',', encoding='latin_1')\n",
        "provincias_camas"
      ],
      "execution_count": 123,
      "outputs": [
        {
          "output_type": "execute_result",
          "data": {
            "text/html": [
              "<div>\n",
              "<style scoped>\n",
              "    .dataframe tbody tr th:only-of-type {\n",
              "        vertical-align: middle;\n",
              "    }\n",
              "\n",
              "    .dataframe tbody tr th {\n",
              "        vertical-align: top;\n",
              "    }\n",
              "\n",
              "    .dataframe thead th {\n",
              "        text-align: right;\n",
              "    }\n",
              "</style>\n",
              "<table border=\"1\" class=\"dataframe\">\n",
              "  <thead>\n",
              "    <tr style=\"text-align: right;\">\n",
              "      <th></th>\n",
              "      <th>Cod_Provincia</th>\n",
              "      <th>Fecha</th>\n",
              "      <th>OCUPADAS_COVID19</th>\n",
              "    </tr>\n",
              "  </thead>\n",
              "  <tbody>\n",
              "    <tr>\n",
              "      <th>0</th>\n",
              "      <td>1</td>\n",
              "      <td>2020-08-19</td>\n",
              "      <td>71</td>\n",
              "    </tr>\n",
              "    <tr>\n",
              "      <th>1</th>\n",
              "      <td>1</td>\n",
              "      <td>2020-08-20</td>\n",
              "      <td>68</td>\n",
              "    </tr>\n",
              "    <tr>\n",
              "      <th>2</th>\n",
              "      <td>1</td>\n",
              "      <td>2020-08-21</td>\n",
              "      <td>69</td>\n",
              "    </tr>\n",
              "    <tr>\n",
              "      <th>3</th>\n",
              "      <td>1</td>\n",
              "      <td>2020-08-22</td>\n",
              "      <td>69</td>\n",
              "    </tr>\n",
              "    <tr>\n",
              "      <th>4</th>\n",
              "      <td>1</td>\n",
              "      <td>2020-08-23</td>\n",
              "      <td>77</td>\n",
              "    </tr>\n",
              "    <tr>\n",
              "      <th>...</th>\n",
              "      <td>...</td>\n",
              "      <td>...</td>\n",
              "      <td>...</td>\n",
              "    </tr>\n",
              "    <tr>\n",
              "      <th>13718</th>\n",
              "      <td>52</td>\n",
              "      <td>2021-05-05</td>\n",
              "      <td>19</td>\n",
              "    </tr>\n",
              "    <tr>\n",
              "      <th>13719</th>\n",
              "      <td>52</td>\n",
              "      <td>2021-05-06</td>\n",
              "      <td>19</td>\n",
              "    </tr>\n",
              "    <tr>\n",
              "      <th>13720</th>\n",
              "      <td>52</td>\n",
              "      <td>2021-05-07</td>\n",
              "      <td>16</td>\n",
              "    </tr>\n",
              "    <tr>\n",
              "      <th>13721</th>\n",
              "      <td>52</td>\n",
              "      <td>2021-05-08</td>\n",
              "      <td>16</td>\n",
              "    </tr>\n",
              "    <tr>\n",
              "      <th>13722</th>\n",
              "      <td>52</td>\n",
              "      <td>2021-05-09</td>\n",
              "      <td>20</td>\n",
              "    </tr>\n",
              "  </tbody>\n",
              "</table>\n",
              "<p>13723 rows × 3 columns</p>\n",
              "</div>"
            ],
            "text/plain": [
              "       Cod_Provincia       Fecha  OCUPADAS_COVID19\n",
              "0                  1  2020-08-19                71\n",
              "1                  1  2020-08-20                68\n",
              "2                  1  2020-08-21                69\n",
              "3                  1  2020-08-22                69\n",
              "4                  1  2020-08-23                77\n",
              "...              ...         ...               ...\n",
              "13718             52  2021-05-05                19\n",
              "13719             52  2021-05-06                19\n",
              "13720             52  2021-05-07                16\n",
              "13721             52  2021-05-08                16\n",
              "13722             52  2021-05-09                20\n",
              "\n",
              "[13723 rows x 3 columns]"
            ]
          },
          "metadata": {
            "tags": []
          },
          "execution_count": 123
        }
      ]
    },
    {
      "cell_type": "code",
      "metadata": {
        "id": "h0tRnnpKCDPl"
      },
      "source": [
        "#Intento trasponer las columnas de fecha y 'OCUPADAS_COVID' por columnas para poder hacer el gráfico\n",
        "\n",
        "provincias_camas1=provincias_camas.pivot(index='Cod_Provincia', columns='Fecha', values='OCUPADAS_COVID19')\n",
        "provincias_camas1"
      ],
      "execution_count": null,
      "outputs": []
    },
    {
      "cell_type": "code",
      "metadata": {
        "id": "s3MJtyk1TTYq"
      },
      "source": [
        "#Exportamos la nueva tabla para representar en el florish\n",
        "provincias_camas1.to_csv('provincias_camas_covid.csv')"
      ],
      "execution_count": 125,
      "outputs": []
    },
    {
      "cell_type": "markdown",
      "metadata": {
        "id": "TkqbE2qXqagn"
      },
      "source": [
        ""
      ]
    }
  ]
}