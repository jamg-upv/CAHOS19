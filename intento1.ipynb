{
  "nbformat": 4,
  "nbformat_minor": 0,
  "metadata": {
    "colab": {
      "name": "intento1.ipynb",
      "provenance": [],
      "collapsed_sections": [],
      "mount_file_id": "1sJx3kZei9GTuozIZDECM_lqJHZRWDEOW",
      "authorship_tag": "ABX9TyMZbaAqtDaUAr4eQ0vgcKC1",
      "include_colab_link": true
    },
    "kernelspec": {
      "name": "python3",
      "display_name": "Python 3"
    },
    "language_info": {
      "name": "python"
    }
  },
  "cells": [
    {
      "cell_type": "markdown",
      "metadata": {
        "id": "view-in-github",
        "colab_type": "text"
      },
      "source": [
        "<a href=\"https://colab.research.google.com/github/jamg-upv/CAHOS19/blob/main/intento1.ipynb\" target=\"_parent\"><img src=\"https://colab.research.google.com/assets/colab-badge.svg\" alt=\"Open In Colab\"/></a>"
      ]
    },
    {
      "cell_type": "markdown",
      "metadata": {
        "id": "wyYzzryt_ZlC"
      },
      "source": [
        "Importo los csv y arreglo cabeceras"
      ]
    },
    {
      "cell_type": "code",
      "metadata": {
        "colab": {
          "base_uri": "https://localhost:8080/"
        },
        "id": "bxamj4Qsmj4S",
        "outputId": "92b68595-0ca2-40bd-b723-833b2a2cbb54"
      },
      "source": [
        "import pandas as pd\n",
        "from datetime import datetime\n",
        "import datetime as dt\n",
        "\n",
        "direccion1=\"https://raw.githubusercontent.com/jamg-upv/CAHOS19/main/inputtables/SIP_dep.csv\"\n",
        "direccion2=\"https://raw.githubusercontent.com/jamg-upv/CAHOS19/main/inputtables/CAMAS_UCI.csv\"\n",
        "direccion0=\"https://raw.githubusercontent.com/jamg-upv/CAHOS19/main/inputtables/Cahos19-borrador-datos%20necesaariosShared-bloque1.csv\"\n",
        "bloque1=pd.read_csv(direccion0, delimiter=';')\n",
        "bloque1.columns=['sexo', 'rango_edad', 'hospital', 'fecha_ingreso_HOSP', 'fecha_ingreso_UCI', 'fecha_alta_UCI', 'fecha_alta_HOSP', 'recup_exitus', 'unnamed','borrar']\n",
        "bloque1.drop(['borrar'], axis=1)\n",
        "SIP_dep=pd.read_csv(direccion1, delimiter=';')\n",
        "CAMAS_UCI=pd.read_csv(direccion2, delimiter=';')\n",
        "\n",
        "bloque1.dtypes\n"
      ],
      "execution_count": null,
      "outputs": [
        {
          "output_type": "execute_result",
          "data": {
            "text/plain": [
              "sexo                   object\n",
              "rango_edad             object\n",
              "hospital               object\n",
              "fecha_ingreso_HOSP     object\n",
              "fecha_ingreso_UCI      object\n",
              "fecha_alta_UCI         object\n",
              "fecha_alta_HOSP        object\n",
              "recup_exitus           object\n",
              "unnamed               float64\n",
              "borrar                float64\n",
              "dtype: object"
            ]
          },
          "metadata": {
            "tags": []
          },
          "execution_count": 70
        }
      ]
    },
    {
      "cell_type": "code",
      "metadata": {
        "colab": {
          "base_uri": "https://localhost:8080/",
          "height": 419
        },
        "id": "InmSE57sEHxy",
        "outputId": "31304a31-3aed-401c-c4b0-5b2520602413"
      },
      "source": [
        "import pandas as pd\n",
        "from datetime import datetime, timedelta\n",
        "\n",
        "direccion1=\"https://raw.githubusercontent.com/jamg-upv/CAHOS19/main/inputtables/SIP_dep.csv\"\n",
        "direccion2=\"https://raw.githubusercontent.com/jamg-upv/CAHOS19/main/inputtables/CAMAS_UCI.csv\"\n",
        "direccion0=\"https://raw.githubusercontent.com/jamg-upv/CAHOS19/main/inputtables/casos_hosp_uci_def_sexo_edad_provres-2.csv\"\n",
        "b1=pd.read_csv(direccion0, delimiter=',')\n",
        "SIP_dep=pd.read_csv(direccion1, delimiter=';')\n",
        "CAMAS_UCI=pd.read_csv(direccion2, delimiter=';') #Hasta aquí lo que hace es leer los distintos archivos\n",
        "\n",
        "b1['fecha'] = pd.to_datetime(b1['fecha'], format=\"%Y-%m-%d\") #Se convierte la columna de fechas a formato fechas\n",
        "\n",
        "\n",
        "b11=b1.drop(b1[b1['provincia_iso']!='V'].index)\n",
        "b12=b1.drop(b1[b1['provincia_iso']!='A'].index)\n",
        "b13=b1.drop(b1[b1['provincia_iso']!='CS'].index) #en estas tres columnas se separa lo que nos interesa: lasa tres provincias de la CV\n",
        "bloque1=pd.concat([b11,b12,b13]) #Aquí se vuelven a juntar solo las tres en un solo dataframe\n",
        "bloque1"
      ],
      "execution_count": null,
      "outputs": [
        {
          "output_type": "execute_result",
          "data": {
            "text/html": [
              "<div>\n",
              "<style scoped>\n",
              "    .dataframe tbody tr th:only-of-type {\n",
              "        vertical-align: middle;\n",
              "    }\n",
              "\n",
              "    .dataframe tbody tr th {\n",
              "        vertical-align: top;\n",
              "    }\n",
              "\n",
              "    .dataframe thead th {\n",
              "        text-align: right;\n",
              "    }\n",
              "</style>\n",
              "<table border=\"1\" class=\"dataframe\">\n",
              "  <thead>\n",
              "    <tr style=\"text-align: right;\">\n",
              "      <th></th>\n",
              "      <th>provincia_iso</th>\n",
              "      <th>sexo</th>\n",
              "      <th>grupo_edad</th>\n",
              "      <th>fecha</th>\n",
              "      <th>num_casos</th>\n",
              "      <th>num_hosp</th>\n",
              "      <th>num_uci</th>\n",
              "      <th>num_def</th>\n",
              "    </tr>\n",
              "  </thead>\n",
              "  <tbody>\n",
              "    <tr>\n",
              "      <th>1440</th>\n",
              "      <td>V</td>\n",
              "      <td>H</td>\n",
              "      <td>0-9</td>\n",
              "      <td>2020-01-01</td>\n",
              "      <td>0</td>\n",
              "      <td>0</td>\n",
              "      <td>0</td>\n",
              "      <td>0</td>\n",
              "    </tr>\n",
              "    <tr>\n",
              "      <th>1441</th>\n",
              "      <td>V</td>\n",
              "      <td>H</td>\n",
              "      <td>10-19</td>\n",
              "      <td>2020-01-01</td>\n",
              "      <td>0</td>\n",
              "      <td>0</td>\n",
              "      <td>0</td>\n",
              "      <td>0</td>\n",
              "    </tr>\n",
              "    <tr>\n",
              "      <th>1442</th>\n",
              "      <td>V</td>\n",
              "      <td>H</td>\n",
              "      <td>20-29</td>\n",
              "      <td>2020-01-01</td>\n",
              "      <td>0</td>\n",
              "      <td>0</td>\n",
              "      <td>0</td>\n",
              "      <td>0</td>\n",
              "    </tr>\n",
              "    <tr>\n",
              "      <th>1443</th>\n",
              "      <td>V</td>\n",
              "      <td>H</td>\n",
              "      <td>30-39</td>\n",
              "      <td>2020-01-01</td>\n",
              "      <td>0</td>\n",
              "      <td>0</td>\n",
              "      <td>0</td>\n",
              "      <td>0</td>\n",
              "    </tr>\n",
              "    <tr>\n",
              "      <th>1444</th>\n",
              "      <td>V</td>\n",
              "      <td>H</td>\n",
              "      <td>40-49</td>\n",
              "      <td>2020-01-01</td>\n",
              "      <td>0</td>\n",
              "      <td>0</td>\n",
              "      <td>0</td>\n",
              "      <td>0</td>\n",
              "    </tr>\n",
              "    <tr>\n",
              "      <th>...</th>\n",
              "      <td>...</td>\n",
              "      <td>...</td>\n",
              "      <td>...</td>\n",
              "      <td>...</td>\n",
              "      <td>...</td>\n",
              "      <td>...</td>\n",
              "      <td>...</td>\n",
              "      <td>...</td>\n",
              "    </tr>\n",
              "    <tr>\n",
              "      <th>781135</th>\n",
              "      <td>CS</td>\n",
              "      <td>NC</td>\n",
              "      <td>50-59</td>\n",
              "      <td>2021-05-06</td>\n",
              "      <td>0</td>\n",
              "      <td>0</td>\n",
              "      <td>0</td>\n",
              "      <td>0</td>\n",
              "    </tr>\n",
              "    <tr>\n",
              "      <th>781136</th>\n",
              "      <td>CS</td>\n",
              "      <td>NC</td>\n",
              "      <td>60-69</td>\n",
              "      <td>2021-05-06</td>\n",
              "      <td>0</td>\n",
              "      <td>0</td>\n",
              "      <td>0</td>\n",
              "      <td>0</td>\n",
              "    </tr>\n",
              "    <tr>\n",
              "      <th>781137</th>\n",
              "      <td>CS</td>\n",
              "      <td>NC</td>\n",
              "      <td>70-79</td>\n",
              "      <td>2021-05-06</td>\n",
              "      <td>0</td>\n",
              "      <td>0</td>\n",
              "      <td>0</td>\n",
              "      <td>0</td>\n",
              "    </tr>\n",
              "    <tr>\n",
              "      <th>781138</th>\n",
              "      <td>CS</td>\n",
              "      <td>NC</td>\n",
              "      <td>80+</td>\n",
              "      <td>2021-05-06</td>\n",
              "      <td>0</td>\n",
              "      <td>0</td>\n",
              "      <td>0</td>\n",
              "      <td>0</td>\n",
              "    </tr>\n",
              "    <tr>\n",
              "      <th>781139</th>\n",
              "      <td>CS</td>\n",
              "      <td>NC</td>\n",
              "      <td>NC</td>\n",
              "      <td>2021-05-06</td>\n",
              "      <td>0</td>\n",
              "      <td>0</td>\n",
              "      <td>0</td>\n",
              "      <td>0</td>\n",
              "    </tr>\n",
              "  </tbody>\n",
              "</table>\n",
              "<p>44280 rows × 8 columns</p>\n",
              "</div>"
            ],
            "text/plain": [
              "       provincia_iso sexo grupo_edad  ... num_hosp  num_uci  num_def\n",
              "1440               V    H        0-9  ...        0        0        0\n",
              "1441               V    H      10-19  ...        0        0        0\n",
              "1442               V    H      20-29  ...        0        0        0\n",
              "1443               V    H      30-39  ...        0        0        0\n",
              "1444               V    H      40-49  ...        0        0        0\n",
              "...              ...  ...        ...  ...      ...      ...      ...\n",
              "781135            CS   NC      50-59  ...        0        0        0\n",
              "781136            CS   NC      60-69  ...        0        0        0\n",
              "781137            CS   NC      70-79  ...        0        0        0\n",
              "781138            CS   NC        80+  ...        0        0        0\n",
              "781139            CS   NC         NC  ...        0        0        0\n",
              "\n",
              "[44280 rows x 8 columns]"
            ]
          },
          "metadata": {
            "tags": []
          },
          "execution_count": 66
        }
      ]
    },
    {
      "cell_type": "code",
      "metadata": {
        "id": "WBlqU92arBze"
      },
      "source": [
        " "
      ],
      "execution_count": null,
      "outputs": []
    }
  ]
}