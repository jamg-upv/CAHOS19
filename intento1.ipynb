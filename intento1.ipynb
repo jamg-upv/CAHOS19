{
  "nbformat": 4,
  "nbformat_minor": 0,
  "metadata": {
    "colab": {
      "name": "intento1.ipynb",
      "provenance": [],
      "mount_file_id": "1sJx3kZei9GTuozIZDECM_lqJHZRWDEOW",
      "authorship_tag": "ABX9TyPIxpNKe8E4NiOWwMDUjAYQ",
      "include_colab_link": true
    },
    "kernelspec": {
      "name": "python3",
      "display_name": "Python 3"
    },
    "language_info": {
      "name": "python"
    }
  },
  "cells": [
    {
      "cell_type": "markdown",
      "metadata": {
        "id": "view-in-github",
        "colab_type": "text"
      },
      "source": [
        "<a href=\"https://colab.research.google.com/github/jamg-upv/CAHOS19/blob/main/intento1.ipynb\" target=\"_parent\"><img src=\"https://colab.research.google.com/assets/colab-badge.svg\" alt=\"Open In Colab\"/></a>"
      ]
    },
    {
      "cell_type": "markdown",
      "metadata": {
        "id": "wyYzzryt_ZlC"
      },
      "source": [
        "Importo los csv y arreglo cabeceras"
      ]
    },
    {
      "cell_type": "code",
      "metadata": {
        "colab": {
          "base_uri": "https://localhost:8080/",
          "height": 198
        },
        "id": "y3_V855h3Kjs",
        "outputId": "9eb7ee7e-4bca-4d40-d24a-33c99884c799"
      },
      "source": [
        "import pandas as pd\n",
        "from datetime import datetime\n",
        "import datetime as dt\n",
        "\n",
        "direccion=\"/content/drive/MyDrive/TFG/Cahos19-borrador-datos-necesaariosShared-bloque1.csv\"\n",
        "df=pd.read_csv(direccion, delimiter=';')\n",
        "df.columns=['sexo', 'rango_edad', 'hospital', 'fecha_ingreso_HOSP', 'fecha_ingreso_UCI', 'fecha_alta_UCI', 'fecha_alta_HOSP', 'recup_exitus', 'unnamed','borrar']\n",
        "df.drop(['borrar'], axis=1)\n",
        "\n",
        "df[['fecha_ingreso_HOSP']] = df[['fecha_ingreso_HOSP']].astype(str)\n",
        "df[['fecha_ingreso_HOSP']]=datetime.strptime(['fecha_ingreso_HOSP'],'%Y-%m-%d')"
      ],
      "execution_count": 85,
      "outputs": [
        {
          "output_type": "error",
          "ename": "TypeError",
          "evalue": "ignored",
          "traceback": [
            "\u001b[0;31m---------------------------------------------------------------------------\u001b[0m",
            "\u001b[0;31mTypeError\u001b[0m                                 Traceback (most recent call last)",
            "\u001b[0;32m<ipython-input-85-c224d1bf4e87>\u001b[0m in \u001b[0;36m<module>\u001b[0;34m()\u001b[0m\n\u001b[1;32m      9\u001b[0m \u001b[0;34m\u001b[0m\u001b[0m\n\u001b[1;32m     10\u001b[0m \u001b[0mdf\u001b[0m\u001b[0;34m[\u001b[0m\u001b[0;34m[\u001b[0m\u001b[0;34m'fecha_ingreso_HOSP'\u001b[0m\u001b[0;34m]\u001b[0m\u001b[0;34m]\u001b[0m \u001b[0;34m=\u001b[0m \u001b[0mdf\u001b[0m\u001b[0;34m[\u001b[0m\u001b[0;34m[\u001b[0m\u001b[0;34m'fecha_ingreso_HOSP'\u001b[0m\u001b[0;34m]\u001b[0m\u001b[0;34m]\u001b[0m\u001b[0;34m.\u001b[0m\u001b[0mastype\u001b[0m\u001b[0;34m(\u001b[0m\u001b[0mstr\u001b[0m\u001b[0;34m)\u001b[0m\u001b[0;34m\u001b[0m\u001b[0;34m\u001b[0m\u001b[0m\n\u001b[0;32m---> 11\u001b[0;31m \u001b[0mdf\u001b[0m\u001b[0;34m[\u001b[0m\u001b[0;34m[\u001b[0m\u001b[0;34m'fecha_ingreso_HOSP'\u001b[0m\u001b[0;34m]\u001b[0m\u001b[0;34m]\u001b[0m\u001b[0;34m=\u001b[0m\u001b[0mdatetime\u001b[0m\u001b[0;34m.\u001b[0m\u001b[0mstrptime\u001b[0m\u001b[0;34m(\u001b[0m\u001b[0;34m[\u001b[0m\u001b[0;34m'fecha_ingreso_HOSP'\u001b[0m\u001b[0;34m]\u001b[0m\u001b[0;34m,\u001b[0m\u001b[0;34m'%Y-%m-%d'\u001b[0m\u001b[0;34m)\u001b[0m\u001b[0;34m\u001b[0m\u001b[0;34m\u001b[0m\u001b[0m\n\u001b[0m",
            "\u001b[0;31mTypeError\u001b[0m: strptime() argument 1 must be str, not list"
          ]
        }
      ]
    },
    {
      "cell_type": "code",
      "metadata": {
        "colab": {
          "base_uri": "https://localhost:8080/",
          "height": 551
        },
        "id": "1CVgzdzXFjvp",
        "outputId": "415271fb-cf5a-4205-fa4e-35eca88e709d"
      },
      "source": [
        "import pandas as pd\n",
        "\n",
        "direccion=\"/content/drive/MyDrive/TFG/Cahos19-borrador-datos-necesaariosShared-bloque1.csv\"\n",
        "df=pd.read_csv(direccion, delimiter=';')\n",
        "df.columns=['sexo', 'rango_edad', 'hospital', 'fecha_ingreso_HOSP', 'fecha_ingreso_UCI', 'fecha_alta_UCI', 'fecha_alta_HOSP', 'recup_exitus', 'unnamed','borrar']\n",
        "df.drop(['borrar'], axis=1)"
      ],
      "execution_count": 28,
      "outputs": [
        {
          "output_type": "execute_result",
          "data": {
            "text/html": [
              "<div>\n",
              "<style scoped>\n",
              "    .dataframe tbody tr th:only-of-type {\n",
              "        vertical-align: middle;\n",
              "    }\n",
              "\n",
              "    .dataframe tbody tr th {\n",
              "        vertical-align: top;\n",
              "    }\n",
              "\n",
              "    .dataframe thead th {\n",
              "        text-align: right;\n",
              "    }\n",
              "</style>\n",
              "<table border=\"1\" class=\"dataframe\">\n",
              "  <thead>\n",
              "    <tr style=\"text-align: right;\">\n",
              "      <th></th>\n",
              "      <th>sexo</th>\n",
              "      <th>rango_edad</th>\n",
              "      <th>hospital</th>\n",
              "      <th>fecha_ingreso_HOSP</th>\n",
              "      <th>fecha_ingreso_UCI</th>\n",
              "      <th>fecha_alta_UCI</th>\n",
              "      <th>fecha_alta_HOSP</th>\n",
              "      <th>recup_exitus</th>\n",
              "      <th>unnamed</th>\n",
              "    </tr>\n",
              "  </thead>\n",
              "  <tbody>\n",
              "    <tr>\n",
              "      <th>0</th>\n",
              "      <td>H</td>\n",
              "      <td>80+</td>\n",
              "      <td>Vinarós</td>\n",
              "      <td>2020-03-04</td>\n",
              "      <td>2020-03-08</td>\n",
              "      <td>2020-03-10</td>\n",
              "      <td>2020-03-10</td>\n",
              "      <td>0</td>\n",
              "      <td>NaN</td>\n",
              "    </tr>\n",
              "    <tr>\n",
              "      <th>1</th>\n",
              "      <td>M</td>\n",
              "      <td>80+</td>\n",
              "      <td>Castellón</td>\n",
              "      <td>2020-03-04</td>\n",
              "      <td>NaN</td>\n",
              "      <td>NaN</td>\n",
              "      <td>2020-03-14</td>\n",
              "      <td>1</td>\n",
              "      <td>NaN</td>\n",
              "    </tr>\n",
              "    <tr>\n",
              "      <th>2</th>\n",
              "      <td>H</td>\n",
              "      <td>80+</td>\n",
              "      <td>La Plana</td>\n",
              "      <td>2020-03-05</td>\n",
              "      <td>NaN</td>\n",
              "      <td>NaN</td>\n",
              "      <td>2020-03-15</td>\n",
              "      <td>0</td>\n",
              "      <td>NaN</td>\n",
              "    </tr>\n",
              "    <tr>\n",
              "      <th>3</th>\n",
              "      <td>M</td>\n",
              "      <td>50-59</td>\n",
              "      <td>Sagunt</td>\n",
              "      <td>2020-03-05</td>\n",
              "      <td>NaN</td>\n",
              "      <td>NaN</td>\n",
              "      <td>2020-03-15</td>\n",
              "      <td>1</td>\n",
              "      <td>NaN</td>\n",
              "    </tr>\n",
              "    <tr>\n",
              "      <th>4</th>\n",
              "      <td>H</td>\n",
              "      <td>60-69</td>\n",
              "      <td>Valencia Clinic - La Malva - Rosa</td>\n",
              "      <td>2020-03-05</td>\n",
              "      <td>NaN</td>\n",
              "      <td>NaN</td>\n",
              "      <td>2020-03-15</td>\n",
              "      <td>1</td>\n",
              "      <td>NaN</td>\n",
              "    </tr>\n",
              "    <tr>\n",
              "      <th>5</th>\n",
              "      <td>H</td>\n",
              "      <td>50-59</td>\n",
              "      <td>Valencia Arnau de Vilanoca Lliria</td>\n",
              "      <td>2020-03-05</td>\n",
              "      <td>2020-03-12</td>\n",
              "      <td>2020-03-23</td>\n",
              "      <td>2020-03-30</td>\n",
              "      <td>1</td>\n",
              "      <td>NaN</td>\n",
              "    </tr>\n",
              "    <tr>\n",
              "      <th>6</th>\n",
              "      <td>M</td>\n",
              "      <td>60-69</td>\n",
              "      <td>Valencia La Fe</td>\n",
              "      <td>2020-03-05</td>\n",
              "      <td>2020-03-10</td>\n",
              "      <td>2020-04-05</td>\n",
              "      <td>2020-04-05</td>\n",
              "      <td>0</td>\n",
              "      <td>NaN</td>\n",
              "    </tr>\n",
              "    <tr>\n",
              "      <th>7</th>\n",
              "      <td>H</td>\n",
              "      <td>70-79</td>\n",
              "      <td>Requena</td>\n",
              "      <td>2020-03-05</td>\n",
              "      <td>NaN</td>\n",
              "      <td>NaN</td>\n",
              "      <td>2020-03-15</td>\n",
              "      <td>1</td>\n",
              "      <td>NaN</td>\n",
              "    </tr>\n",
              "    <tr>\n",
              "      <th>8</th>\n",
              "      <td>H</td>\n",
              "      <td>80+</td>\n",
              "      <td>Marina Baixa</td>\n",
              "      <td>2020-03-05</td>\n",
              "      <td>NaN</td>\n",
              "      <td>NaN</td>\n",
              "      <td>2020-03-15</td>\n",
              "      <td>1</td>\n",
              "      <td>NaN</td>\n",
              "    </tr>\n",
              "    <tr>\n",
              "      <th>9</th>\n",
              "      <td>H</td>\n",
              "      <td>50-59</td>\n",
              "      <td>S. Joan d´Alacant</td>\n",
              "      <td>2020-03-05</td>\n",
              "      <td>NaN</td>\n",
              "      <td>NaN</td>\n",
              "      <td>2020-03-15</td>\n",
              "      <td>1</td>\n",
              "      <td>NaN</td>\n",
              "    </tr>\n",
              "    <tr>\n",
              "      <th>10</th>\n",
              "      <td>H</td>\n",
              "      <td>60-69</td>\n",
              "      <td>Elda</td>\n",
              "      <td>2020-03-05</td>\n",
              "      <td>2020-03-08</td>\n",
              "      <td>2020-03-28</td>\n",
              "      <td>2020-04-10</td>\n",
              "      <td>1</td>\n",
              "      <td>NaN</td>\n",
              "    </tr>\n",
              "    <tr>\n",
              "      <th>11</th>\n",
              "      <td>M</td>\n",
              "      <td>80+</td>\n",
              "      <td>Alacant - H. General</td>\n",
              "      <td>2020-03-06</td>\n",
              "      <td>NaN</td>\n",
              "      <td>NaN</td>\n",
              "      <td>2020-03-16</td>\n",
              "      <td>1</td>\n",
              "      <td>NaN</td>\n",
              "    </tr>\n",
              "    <tr>\n",
              "      <th>12</th>\n",
              "      <td>M</td>\n",
              "      <td>80+</td>\n",
              "      <td>Elx - Hospital General</td>\n",
              "      <td>2020-03-06</td>\n",
              "      <td>NaN</td>\n",
              "      <td>NaN</td>\n",
              "      <td>2020-03-21</td>\n",
              "      <td>1</td>\n",
              "      <td>NaN</td>\n",
              "    </tr>\n",
              "    <tr>\n",
              "      <th>13</th>\n",
              "      <td>…</td>\n",
              "      <td>…</td>\n",
              "      <td>…</td>\n",
              "      <td>…</td>\n",
              "      <td>…</td>\n",
              "      <td>…</td>\n",
              "      <td>…</td>\n",
              "      <td>…</td>\n",
              "      <td>NaN</td>\n",
              "    </tr>\n",
              "  </tbody>\n",
              "</table>\n",
              "</div>"
            ],
            "text/plain": [
              "   sexo rango_edad  ... recup_exitus unnamed\n",
              "0     H        80+  ...            0     NaN\n",
              "1     M        80+  ...            1     NaN\n",
              "2     H        80+  ...            0     NaN\n",
              "3     M      50-59  ...            1     NaN\n",
              "4     H      60-69  ...            1     NaN\n",
              "5     H      50-59  ...            1     NaN\n",
              "6     M      60-69  ...            0     NaN\n",
              "7     H      70-79  ...            1     NaN\n",
              "8     H        80+  ...            1     NaN\n",
              "9     H      50-59  ...            1     NaN\n",
              "10    H      60-69  ...            1     NaN\n",
              "11    M        80+  ...            1     NaN\n",
              "12    M        80+  ...            1     NaN\n",
              "13    …          …  ...            …     NaN\n",
              "\n",
              "[14 rows x 9 columns]"
            ]
          },
          "metadata": {
            "tags": []
          },
          "execution_count": 28
        }
      ]
    },
    {
      "cell_type": "code",
      "metadata": {
        "colab": {
          "base_uri": "https://localhost:8080/",
          "height": 334
        },
        "id": "bxamj4Qsmj4S",
        "outputId": "d6929319-7e99-4b3f-dd32-c5b1b4a19c9f"
      },
      "source": [
        "import pandas as pd\n",
        "from datetime import datetime\n",
        "import datetime as dt\n",
        "\n",
        "direccion1=\"https://raw.githubusercontent.com/jamg-upv/CAHOS19/main/inputtables/SIP_dep.csv\"\n",
        "direccion2=\"https://raw.githubusercontent.com/jamg-upv/CAHOS19/main/inputtables/CAMAS_UCI.csv\"\n",
        "direccion0=\"/content/drive/MyDrive/TFG/Cahos19-borrador-datos-necesaariosShared-bloque1.csv\"\n",
        "bloque1=pd.read_csv(direccion0, delimiter=';')\n",
        "bloque1.columns=['sexo', 'rango_edad', 'hospital', 'fecha_ingreso_HOSP', 'fecha_ingreso_UCI', 'fecha_alta_UCI', 'fecha_alta_HOSP', 'recup_exitus', 'unnamed','borrar']\n",
        "df.drop(['borrar'], axis=1)\n",
        "SIP_dep=pd.read_csv(direccion1, delimiter=';')\n",
        "CAMAS_UCI=pd.read_csv(direccion2, delimiter=';')\n",
        "\n",
        "bloque1.str(['fecha_ingreso_HOSP'])\n",
        "bloque1['fecha_ingreso_HOSP'].strftime('%Y-%m-%d')"
      ],
      "execution_count": 78,
      "outputs": [
        {
          "output_type": "error",
          "ename": "AttributeError",
          "evalue": "ignored",
          "traceback": [
            "\u001b[0;31m---------------------------------------------------------------------------\u001b[0m",
            "\u001b[0;31mAttributeError\u001b[0m                            Traceback (most recent call last)",
            "\u001b[0;32m<ipython-input-78-0142ec6b7ae7>\u001b[0m in \u001b[0;36m<module>\u001b[0;34m()\u001b[0m\n\u001b[1;32m     12\u001b[0m \u001b[0mCAMAS_UCI\u001b[0m\u001b[0;34m=\u001b[0m\u001b[0mpd\u001b[0m\u001b[0;34m.\u001b[0m\u001b[0mread_csv\u001b[0m\u001b[0;34m(\u001b[0m\u001b[0mdireccion2\u001b[0m\u001b[0;34m,\u001b[0m \u001b[0mdelimiter\u001b[0m\u001b[0;34m=\u001b[0m\u001b[0;34m';'\u001b[0m\u001b[0;34m)\u001b[0m\u001b[0;34m\u001b[0m\u001b[0;34m\u001b[0m\u001b[0m\n\u001b[1;32m     13\u001b[0m \u001b[0;34m\u001b[0m\u001b[0m\n\u001b[0;32m---> 14\u001b[0;31m \u001b[0mbloque1\u001b[0m\u001b[0;34m.\u001b[0m\u001b[0mstr\u001b[0m\u001b[0;34m(\u001b[0m\u001b[0;34m[\u001b[0m\u001b[0;34m'fecha_ingreso_HOSP'\u001b[0m\u001b[0;34m]\u001b[0m\u001b[0;34m)\u001b[0m\u001b[0;34m\u001b[0m\u001b[0;34m\u001b[0m\u001b[0m\n\u001b[0m\u001b[1;32m     15\u001b[0m \u001b[0mbloque1\u001b[0m\u001b[0;34m[\u001b[0m\u001b[0;34m'fecha_ingreso_HOSP'\u001b[0m\u001b[0;34m]\u001b[0m\u001b[0;34m.\u001b[0m\u001b[0mstrftime\u001b[0m\u001b[0;34m(\u001b[0m\u001b[0;34m'%Y-%m-%d'\u001b[0m\u001b[0;34m)\u001b[0m\u001b[0;34m\u001b[0m\u001b[0;34m\u001b[0m\u001b[0m\n",
            "\u001b[0;32m/usr/local/lib/python3.7/dist-packages/pandas/core/generic.py\u001b[0m in \u001b[0;36m__getattr__\u001b[0;34m(self, name)\u001b[0m\n\u001b[1;32m   5139\u001b[0m             \u001b[0;32mif\u001b[0m \u001b[0mself\u001b[0m\u001b[0;34m.\u001b[0m\u001b[0m_info_axis\u001b[0m\u001b[0;34m.\u001b[0m\u001b[0m_can_hold_identifiers_and_holds_name\u001b[0m\u001b[0;34m(\u001b[0m\u001b[0mname\u001b[0m\u001b[0;34m)\u001b[0m\u001b[0;34m:\u001b[0m\u001b[0;34m\u001b[0m\u001b[0;34m\u001b[0m\u001b[0m\n\u001b[1;32m   5140\u001b[0m                 \u001b[0;32mreturn\u001b[0m \u001b[0mself\u001b[0m\u001b[0;34m[\u001b[0m\u001b[0mname\u001b[0m\u001b[0;34m]\u001b[0m\u001b[0;34m\u001b[0m\u001b[0;34m\u001b[0m\u001b[0m\n\u001b[0;32m-> 5141\u001b[0;31m             \u001b[0;32mreturn\u001b[0m \u001b[0mobject\u001b[0m\u001b[0;34m.\u001b[0m\u001b[0m__getattribute__\u001b[0m\u001b[0;34m(\u001b[0m\u001b[0mself\u001b[0m\u001b[0;34m,\u001b[0m \u001b[0mname\u001b[0m\u001b[0;34m)\u001b[0m\u001b[0;34m\u001b[0m\u001b[0;34m\u001b[0m\u001b[0m\n\u001b[0m\u001b[1;32m   5142\u001b[0m \u001b[0;34m\u001b[0m\u001b[0m\n\u001b[1;32m   5143\u001b[0m     \u001b[0;32mdef\u001b[0m \u001b[0m__setattr__\u001b[0m\u001b[0;34m(\u001b[0m\u001b[0mself\u001b[0m\u001b[0;34m,\u001b[0m \u001b[0mname\u001b[0m\u001b[0;34m:\u001b[0m \u001b[0mstr\u001b[0m\u001b[0;34m,\u001b[0m \u001b[0mvalue\u001b[0m\u001b[0;34m)\u001b[0m \u001b[0;34m->\u001b[0m \u001b[0;32mNone\u001b[0m\u001b[0;34m:\u001b[0m\u001b[0;34m\u001b[0m\u001b[0;34m\u001b[0m\u001b[0m\n",
            "\u001b[0;31mAttributeError\u001b[0m: 'DataFrame' object has no attribute 'str'"
          ]
        }
      ]
    },
    {
      "cell_type": "code",
      "metadata": {
        "id": "WBlqU92arBze"
      },
      "source": [
        ""
      ],
      "execution_count": null,
      "outputs": []
    }
  ]
}